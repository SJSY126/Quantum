{
  "nbformat": 4,
  "nbformat_minor": 0,
  "metadata": {
    "colab": {
      "name": "Qiskit_pulse.ipynb",
      "provenance": [],
      "collapsed_sections": [],
      "mount_file_id": "1fCresC0u5GUQNEGMqQhIi7gEMf-GNpwA",
      "authorship_tag": "ABX9TyOkGchAWIcKTrU9Ke2OgPXa"
    },
    "kernelspec": {
      "name": "python3",
      "display_name": "Python 3"
    }
  },
  "cells": [
    {
      "cell_type": "markdown",
      "metadata": {
        "id": "yNYYi32dK--I",
        "colab_type": "text"
      },
      "source": [
        "https://qiskit.org/textbook/ch-quantum-hardware/calibrating-qubits-openpulse.html"
      ]
    },
    {
      "cell_type": "code",
      "metadata": {
        "id": "NXc3DifbH2gh",
        "colab_type": "code",
        "colab": {
          "base_uri": "https://localhost:8080/",
          "height": 34
        },
        "outputId": "038495fa-63c4-41bb-c1d1-4f78562d9984"
      },
      "source": [
        "#!pip uninstall  -q qiskit"
      ],
      "execution_count": 95,
      "outputs": [
        {
          "output_type": "stream",
          "text": [
            "Proceed (y/n)? y\n"
          ],
          "name": "stdout"
        }
      ]
    },
    {
      "cell_type": "code",
      "metadata": {
        "id": "zTaTI7cRwUkN",
        "colab_type": "code",
        "colab": {
          "base_uri": "https://localhost:8080/",
          "height": 340
        },
        "outputId": "2f6d8798-0d74-48ae-9a85-8158dcaf65d5"
      },
      "source": [
        "!pip install -q --upgrade qiskit"
      ],
      "execution_count": 1,
      "outputs": [
        {
          "output_type": "stream",
          "text": [
            "\u001b[K     |████████████████████████████████| 8.3MB 4.6MB/s \n",
            "\u001b[K     |████████████████████████████████| 16.5MB 209kB/s \n",
            "\u001b[K     |████████████████████████████████| 163kB 51.6MB/s \n",
            "\u001b[K     |████████████████████████████████| 174kB 52.3MB/s \n",
            "\u001b[K     |████████████████████████████████| 1.9MB 40.5MB/s \n",
            "\u001b[K     |████████████████████████████████| 5.8MB 44.2MB/s \n",
            "\u001b[K     |████████████████████████████████| 962kB 44.7MB/s \n",
            "\u001b[K     |████████████████████████████████| 51kB 6.0MB/s \n",
            "\u001b[K     |████████████████████████████████| 296kB 48.9MB/s \n",
            "\u001b[K     |████████████████████████████████| 71kB 9.1MB/s \n",
            "\u001b[K     |████████████████████████████████| 583kB 37.3MB/s \n",
            "\u001b[K     |████████████████████████████████| 102kB 11.5MB/s \n",
            "\u001b[K     |████████████████████████████████| 2.7MB 45.7MB/s \n",
            "\u001b[?25h  Building wheel for qiskit (setup.py) ... \u001b[?25l\u001b[?25hdone\n",
            "  Building wheel for python-constraint (setup.py) ... \u001b[?25l\u001b[?25hdone\n",
            "  Building wheel for contextvars (setup.py) ... \u001b[?25l\u001b[?25hdone\n",
            "  Building wheel for dlx (setup.py) ... \u001b[?25l\u001b[?25hdone\n",
            "  Building wheel for yfinance (setup.py) ... \u001b[?25l\u001b[?25hdone\n",
            "  Building wheel for docplex (setup.py) ... \u001b[?25l\u001b[?25hdone\n"
          ],
          "name": "stdout"
        }
      ]
    },
    {
      "cell_type": "code",
      "metadata": {
        "id": "qEt45q7zHjq5",
        "colab_type": "code",
        "colab": {
          "base_uri": "https://localhost:8080/",
          "height": 207
        },
        "outputId": "e6653ac5-d43d-4cac-9b98-695c12d221ad"
      },
      "source": [
        "import numpy as np\n",
        "import matplotlib.pyplot as plt\n",
        "from scipy.optimize import curve_fit\n",
        "\n",
        "import seaborn as sns\n",
        "\n",
        "from qiskit.tools.jupyter import *\n",
        "from qiskit import IBMQ\n",
        "from qiskit import pulse\n",
        "from qiskit.pulse import Play\n",
        "from qiskit.pulse import pulse_lib\n",
        "from qiskit import assemble\n",
        "from qiskit.tools.monitor import job_monitor\n",
        "\n",
        "%matplotlib inline\n",
        "\n",
        "import qiskit\n",
        "qiskit.__qiskit_version__"
      ],
      "execution_count": 2,
      "outputs": [
        {
          "output_type": "stream",
          "text": [
            "/usr/local/lib/python3.6/dist-packages/statsmodels/tools/_testing.py:19: FutureWarning: pandas.util.testing is deprecated. Use the functions in the public API at pandas.testing instead.\n",
            "  import pandas.util.testing as tm\n",
            "/usr/local/lib/python3.6/dist-packages/ipykernel_launcher.py:11: DeprecationWarning: the pulse_lib module is deprecated, pulse_lib is renamed to library\n",
            "  # This is added back by InteractiveShellApp.init_path()\n"
          ],
          "name": "stderr"
        },
        {
          "output_type": "execute_result",
          "data": {
            "text/plain": [
              "{'qiskit': None,\n",
              " 'qiskit-aer': '0.6.1',\n",
              " 'qiskit-aqua': '0.7.5',\n",
              " 'qiskit-ibmq-provider': '0.8.0',\n",
              " 'qiskit-ignis': '0.4.0',\n",
              " 'qiskit-terra': '0.15.1'}"
            ]
          },
          "metadata": {
            "tags": []
          },
          "execution_count": 2
        }
      ]
    },
    {
      "cell_type": "code",
      "metadata": {
        "id": "WAVF5b0GJIqD",
        "colab_type": "code",
        "colab": {}
      },
      "source": [
        "with open('/content/drive/My Drive/ibmq.txt', 'r') as f:\n",
        "   ibmq_api_key = f.readline()\n",
        "\n",
        "IBMQ.save_account(ibmq_api_key)"
      ],
      "execution_count": 3,
      "outputs": []
    },
    {
      "cell_type": "code",
      "metadata": {
        "id": "ulXcOM3-Waly",
        "colab_type": "code",
        "colab": {
          "base_uri": "https://localhost:8080/",
          "height": 71
        },
        "outputId": "57c11892-f2d2-4572-a34d-248b9391bca2"
      },
      "source": [
        "IBMQ.load_account()\n",
        "provider = IBMQ.get_provider(hub='ibm-q', group='open', project='main')\n",
        "backend = provider.get_backend('ibmq_armonk')"
      ],
      "execution_count": 4,
      "outputs": [
        {
          "output_type": "stream",
          "text": [
            "/usr/local/lib/python3.6/dist-packages/qiskit/providers/ibmq/ibmqfactory.py:192: UserWarning: Timestamps in IBMQ backend properties, jobs, and job results are all now in local time instead of UTC.\n",
            "  warnings.warn('Timestamps in IBMQ backend properties, jobs, and job results '\n"
          ],
          "name": "stderr"
        }
      ]
    },
    {
      "cell_type": "markdown",
      "metadata": {
        "id": "4gijmvLBLhdv",
        "colab_type": "text"
      },
      "source": [
        "open pulseが使えるバックエンドか確認する。\n",
        "現在使えるバックエンドは`ibmq_armonk`のみ（1qubit）"
      ]
    },
    {
      "cell_type": "code",
      "metadata": {
        "id": "ctICyPuhHx5L",
        "colab_type": "code",
        "colab": {}
      },
      "source": [
        "backend_config = backend.configuration()\n",
        "assert backend_config.open_pulse, \"Backend doesn't support Pulse\""
      ],
      "execution_count": 5,
      "outputs": []
    },
    {
      "cell_type": "code",
      "metadata": {
        "id": "NB2YK1VBLE0H",
        "colab_type": "code",
        "colab": {
          "base_uri": "https://localhost:8080/",
          "height": 34
        },
        "outputId": "31dc43e1-28d1-445f-dd5e-c7865826acbb"
      },
      "source": [
        "dt = backend_config.dt\n",
        "print(f\"Sampling time: {dt*1e9} ns\")    # The configuration returns dt in seconds, so multiply by\n",
        "                                        # 1e9 to get nanoseconds"
      ],
      "execution_count": 6,
      "outputs": [
        {
          "output_type": "stream",
          "text": [
            "Sampling time: 0.2222222222222222 ns\n"
          ],
          "name": "stdout"
        }
      ]
    },
    {
      "cell_type": "code",
      "metadata": {
        "id": "O9cAPuSJeCQT",
        "colab_type": "code",
        "colab": {
          "base_uri": "https://localhost:8080/",
          "height": 34
        },
        "outputId": "526d6982-5f5b-4555-d935-f352e7f2ee32"
      },
      "source": [
        "print(backend_config)"
      ],
      "execution_count": 7,
      "outputs": [
        {
          "output_type": "stream",
          "text": [
            "<qiskit.providers.models.backendconfiguration.PulseBackendConfiguration object at 0x7fa12f884d30>\n"
          ],
          "name": "stdout"
        }
      ]
    },
    {
      "cell_type": "code",
      "metadata": {
        "id": "USkcRXf2MBar",
        "colab_type": "code",
        "colab": {
          "base_uri": "https://localhost:8080/",
          "height": 136
        },
        "outputId": "1bb5750d-70e6-46b4-f635-d16c997a7ef1"
      },
      "source": [
        "backend_defaults = backend.defaults()\n",
        "print(backend_defaults)"
      ],
      "execution_count": 8,
      "outputs": [
        {
          "output_type": "stream",
          "text": [
            "<PulseDefaults(<InstructionScheduleMap(1Q instructions:\n",
            "  q0: {'x', 'u1', 'id', 'u3', 'measure', 'u2'}\n",
            "Multi qubit instructions:\n",
            ")>Qubit Frequencies [GHz]\n",
            "[4.974455810107823]\n",
            "Measurement Frequencies [GHz]\n",
            "[6.993427855] )>\n"
          ],
          "name": "stdout"
        }
      ]
    },
    {
      "cell_type": "code",
      "metadata": {
        "id": "jBEZFiCgMXcP",
        "colab_type": "code",
        "colab": {
          "base_uri": "https://localhost:8080/",
          "height": 51
        },
        "outputId": "84710d2f-98a3-430a-8006-a5537d3411f4"
      },
      "source": [
        "import numpy as np\n",
        "\n",
        "# unit conversion factors -> all backend properties returned in SI (Hz, sec, etc)\n",
        "GHz = 1.0e9 # Gigahertz\n",
        "MHz = 1.0e6 # Megahertz\n",
        "us = 1.0e-6 # Microseconds\n",
        "ns = 1.0e-9 # Nanoseconds\n",
        "\n",
        "# We will find the qubit frequency for the following qubit.\n",
        "qubit = 0\n",
        "\n",
        "# The sweep will be centered around the estimated qubit frequency.\n",
        "center_frequency_Hz = backend_defaults.qubit_freq_est[qubit]        # The default frequency is given in Hz\n",
        "                                                                    # warning: this will change in a future release\n",
        "print(f\"Qubit {qubit} has an estimated frequency of {center_frequency_Hz / GHz} GHz.\")\n",
        "\n",
        "# scale factor to remove factors of 10 from the data\n",
        "scale_factor = 1e-14\n",
        "\n",
        "# We will sweep 40 MHz around the estimated frequency\n",
        "frequency_span_Hz = 40 * MHz\n",
        "# in steps of 1 MHz.\n",
        "frequency_step_Hz = 10 * MHz\n",
        "\n",
        "# We will sweep 20 MHz above and 20 MHz below the estimated frequency\n",
        "frequency_min = center_frequency_Hz - frequency_span_Hz / 2\n",
        "frequency_max = center_frequency_Hz + frequency_span_Hz / 2\n",
        "# Construct an np array of the frequencies for our experiment\n",
        "frequencies_GHz = np.arange(frequency_min / GHz, \n",
        "                            frequency_max / GHz, \n",
        "                            frequency_step_Hz / GHz)\n",
        "\n",
        "print(f\"The sweep will go from {frequency_min / GHz} GHz to {frequency_max / GHz} GHz \\\n",
        "in steps of {frequency_step_Hz / MHz} MHz.\")"
      ],
      "execution_count": 9,
      "outputs": [
        {
          "output_type": "stream",
          "text": [
            "Qubit 0 has an estimated frequency of 4.974455810107823 GHz.\n",
            "The sweep will go from 4.954455810107824 GHz to 4.994455810107824 GHz in steps of 10.0 MHz.\n"
          ],
          "name": "stdout"
        }
      ]
    },
    {
      "cell_type": "code",
      "metadata": {
        "id": "952cfIWWPkO7",
        "colab_type": "code",
        "colab": {}
      },
      "source": [
        "# samples need to be multiples of 16\n",
        "def get_closest_multiple_of_16(num):\n",
        "    return int(num + 8 ) - (int(num + 8 ) % 16)"
      ],
      "execution_count": 10,
      "outputs": []
    },
    {
      "cell_type": "code",
      "metadata": {
        "id": "OtgVf6MX77Zv",
        "colab_type": "code",
        "colab": {}
      },
      "source": [
        "from qiskit import pulse            # This is where we access all of our Pulse features!\n",
        "from qiskit.pulse import Play\n",
        "from qiskit.pulse import pulse_lib  # This Pulse module helps us build sampled pulses for common pulse shapes\n",
        "\n",
        "\n",
        "# Drive pulse parameters (us = microseconds)\n",
        "drive_sigma_us = 0.075                  # This determines the actual width of the gaussian\n",
        "drive_samples_us = drive_sigma_us*8        # This is a truncating parameter, because gaussians don't have \n",
        "                                           # a natural finite length\n",
        "\n",
        "drive_sigma = get_closest_multiple_of_16(drive_sigma_us * us /dt)       # The width of the gaussian in units of dt\n",
        "drive_samples = get_closest_multiple_of_16(drive_samples_us * us /dt)   # The truncating parameter in units of dt\n",
        "drive_amp = 0.3\n",
        "# Drive pulse samples\n",
        "drive_pulse = pulse_lib.gaussian(duration=drive_samples,\n",
        "                                 sigma=drive_sigma,\n",
        "                                 amp=drive_amp,\n",
        "                                 name='freq_sweep_excitation_pulse')"
      ],
      "execution_count": 11,
      "outputs": []
    },
    {
      "cell_type": "code",
      "metadata": {
        "id": "Tq9_z7uX8C-u",
        "colab_type": "code",
        "colab": {}
      },
      "source": [
        "# Find out which group of qubits need to be acquired with this qubit\n",
        "meas_map_idx = None\n",
        "for i, measure_group in enumerate(backend_config.meas_map):\n",
        "    if qubit in measure_group:\n",
        "        meas_map_idx = i\n",
        "        break\n",
        "assert meas_map_idx is not None, f\"Couldn't find qubit {qubit} in the meas_map!\""
      ],
      "execution_count": 12,
      "outputs": []
    },
    {
      "cell_type": "code",
      "metadata": {
        "id": "uaNwjJMG8-lh",
        "colab_type": "code",
        "colab": {}
      },
      "source": [
        "inst_sched_map = backend_defaults.instruction_schedule_map\n",
        "measure = inst_sched_map.get('measure', qubits=backend_config.meas_map[meas_map_idx])"
      ],
      "execution_count": 13,
      "outputs": []
    },
    {
      "cell_type": "code",
      "metadata": {
        "id": "gHR4rxf99RqK",
        "colab_type": "code",
        "colab": {}
      },
      "source": [
        "### Collect the necessary channels\n",
        "drive_chan = pulse.DriveChannel(qubit)\n",
        "meas_chan = pulse.MeasureChannel(qubit)\n",
        "acq_chan = pulse.AcquireChannel(qubit)"
      ],
      "execution_count": 14,
      "outputs": []
    },
    {
      "cell_type": "code",
      "metadata": {
        "id": "VI85Mic49gFG",
        "colab_type": "code",
        "colab": {}
      },
      "source": [
        "# Create the base schedule\n",
        "# Start with drive pulse acting on the drive channel\n",
        "schedule = pulse.Schedule(name='Frequency sweep')\n",
        "schedule += Play(drive_pulse, drive_chan)\n",
        "# The left shift `<<` is special syntax meaning to shift the start time of the schedule by some duration\n",
        "schedule += measure << schedule.duration\n",
        "\n",
        "# Create the frequency settings for the sweep (MUST BE IN HZ)\n",
        "frequencies_Hz = frequencies_GHz*GHz\n",
        "schedule_frequencies = [{drive_chan: freq} for freq in frequencies_Hz]"
      ],
      "execution_count": 15,
      "outputs": []
    },
    {
      "cell_type": "code",
      "metadata": {
        "id": "-3SmSe1y9u1m",
        "colab_type": "code",
        "colab": {}
      },
      "source": [
        "#schedule_frequencies"
      ],
      "execution_count": 16,
      "outputs": []
    },
    {
      "cell_type": "code",
      "metadata": {
        "id": "DibEdZK197L0",
        "colab_type": "code",
        "colab": {
          "base_uri": "https://localhost:8080/",
          "height": 974
        },
        "outputId": "06e3154d-f107-4591-e4ce-95c3e31f3043"
      },
      "source": [
        "schedule.draw(label=True)"
      ],
      "execution_count": 22,
      "outputs": [
        {
          "output_type": "execute_result",
          "data": {
            "image/png": "[encoded data removed]",
            "text/plain": [
              "<Figure size 1500x1800 with 1 Axes>"
            ]
          },
          "metadata": {
            "tags": []
          },
          "execution_count": 22
        }
      ]
    },
    {
      "cell_type": "code",
      "metadata": {
        "id": "wuKWRf4x-H_8",
        "colab_type": "code",
        "colab": {
          "base_uri": "https://localhost:8080/",
          "height": 71
        },
        "outputId": "f0d48fc2-9d67-437f-dbea-cbec8b42377d"
      },
      "source": [
        "from qiskit import assemble\n",
        "\n",
        "num_shots_per_frequency = 1024\n",
        "frequency_sweep_program = assemble(schedule,\n",
        "                                   backend=backend, \n",
        "                                   meas_level=1,\n",
        "                                   meas_return='avg',\n",
        "                                   shots=num_shots_per_frequency,\n",
        "                                   schedule_los=schedule_frequencies)"
      ],
      "execution_count": 21,
      "outputs": [
        {
          "output_type": "stream",
          "text": [
            "/usr/local/lib/python3.6/dist-packages/qiskit/compiler/assemble.py:323: RuntimeWarning: Dynamic rep rates not supported on this backend. rep_time will be used instead of rep_delay.\n",
            "  RuntimeWarning,\n"
          ],
          "name": "stderr"
        }
      ]
    },
    {
      "cell_type": "code",
      "metadata": {
        "id": "YUW1tTeD-XYj",
        "colab_type": "code",
        "colab": {}
      },
      "source": [
        "job = backend.run(frequency_sweep_program)"
      ],
      "execution_count": 28,
      "outputs": []
    },
    {
      "cell_type": "code",
      "metadata": {
        "id": "DzwLyDIQ-gC6",
        "colab_type": "code",
        "colab": {
          "base_uri": "https://localhost:8080/",
          "height": 51
        },
        "outputId": "12cc909f-b655-4197-effd-6f1404b28ee7"
      },
      "source": [
        "print(job.job_id())\n",
        "from qiskit.tools.monitor import job_monitor\n",
        "job_monitor(job)"
      ],
      "execution_count": 29,
      "outputs": [
        {
          "output_type": "stream",
          "text": [
            "5f33b3abd32e9300139c812f\n",
            "Job Status: job has successfully run\n"
          ],
          "name": "stdout"
        }
      ]
    },
    {
      "cell_type": "code",
      "metadata": {
        "id": "ZZFEI3paBwiC",
        "colab_type": "code",
        "colab": {}
      },
      "source": [
        "job.error_message() "
      ],
      "execution_count": 30,
      "outputs": []
    },
    {
      "cell_type": "code",
      "metadata": {
        "id": "2HADew6f-kmK",
        "colab_type": "code",
        "colab": {}
      },
      "source": [
        "frequency_sweep_results = job.result(timeout=120) # timeout parameter set to 120 seconds"
      ],
      "execution_count": 31,
      "outputs": []
    },
    {
      "cell_type": "code",
      "metadata": {
        "id": "VCgqBfWn-3CQ",
        "colab_type": "code",
        "colab": {
          "base_uri": "https://localhost:8080/",
          "height": 279
        },
        "outputId": "620b35e6-991e-4396-f9b1-8e259507976f"
      },
      "source": [
        "sweep_values = []\n",
        "for i in range(len(frequency_sweep_results.results)):\n",
        "    # Get the results from the ith experiment\n",
        "    res = frequency_sweep_results.get_memory(i)*scale_factor\n",
        "    # Get the results for `qubit` from this experiment\n",
        "    sweep_values.append(res[qubit])\n",
        "\n",
        "plt.scatter(frequencies_GHz, np.real(sweep_values), color='black') # plot real part of sweep values\n",
        "plt.xlim([min(frequencies_GHz), max(frequencies_GHz)])\n",
        "plt.xlabel(\"Frequency [GHz]\")\n",
        "plt.ylabel(\"Measured signal [a.u.]\")\n",
        "plt.show()"
      ],
      "execution_count": 32,
      "outputs": [
        {
          "output_type": "display_data",
          "data": {
            "image/png": "[encoded data removed]",
            "text/plain": [
              "<Figure size 432x288 with 1 Axes>"
            ]
          },
          "metadata": {
            "tags": [],
            "needs_background": "light"
          }
        }
      ]
    },
    {
      "cell_type": "code",
      "metadata": {
        "id": "rGNV8b0_drY5",
        "colab_type": "code",
        "colab": {
          "base_uri": "https://localhost:8080/",
          "height": 750
        },
        "outputId": "b2840fd4-037b-4612-a0bb-46e0b05f4571"
      },
      "source": [
        "# Drive pulse parameters (us = microseconds)\n",
        "drive_sigma_us = 0.05\n",
        "drive_samples_us = drive_sigma_us*8\n",
        "\n",
        "drive_sigma = get_closest_multiple_of_16(drive_sigma_us * us /dt)      \n",
        "drive_samples = get_closest_multiple_of_16(drive_samples_us * us /dt)  \n",
        "drive_amp = 0.3\n",
        "# Drive pulse samples\n",
        "drive_pulse = pulse_lib.gaussian(duration=drive_samples,\n",
        "                                 sigma=drive_sigma,\n",
        "                                 amp=drive_amp,\n",
        "                                 name='freq_sweep_excitation_pulse')\n",
        "\n",
        "schedule = pulse.Schedule(name='Frequency sweep')\n",
        "schedule += Play(drive_pulse, drive_chan)\n",
        "\n",
        "schedule += measure << schedule.duration\n",
        "\n",
        "frequencies_Hz = frequencies_GHz*GHz\n",
        "schedule_frequencies = [{drive_chan: freq} for freq in frequencies_Hz]\n",
        "\n",
        "schedule.draw(label=True, scaling=0.8)"
      ],
      "execution_count": 33,
      "outputs": [
        {
          "output_type": "execute_result",
          "data": {
            "image/png": "[encoded data removed]",
            "text/plain": [
              "<Figure size 720x864 with 1 Axes>"
            ]
          },
          "metadata": {
            "tags": []
          },
          "execution_count": 33
        }
      ]
    },
    {
      "cell_type": "code",
      "metadata": {
        "id": "CfsYRyx_eWW9",
        "colab_type": "code",
        "colab": {
          "base_uri": "https://localhost:8080/",
          "height": 51
        },
        "outputId": "1800bece-e0df-4aad-a304-861c4d72c5b7"
      },
      "source": [
        "frequency_sweep_program = assemble(schedule,\n",
        "                                   backend=backend, \n",
        "                                   meas_level=1,\n",
        "                                   meas_return='avg',\n",
        "                                   shots=num_shots_per_frequency,\n",
        "                                   schedule_los=schedule_frequencies)\n",
        "\n",
        "job = backend.run(frequency_sweep_program)\n",
        "\n",
        "print(job.job_id())\n",
        "from qiskit.tools.monitor import job_monitor\n",
        "job_monitor(job)"
      ],
      "execution_count": 34,
      "outputs": [
        {
          "output_type": "stream",
          "text": [
            "5f33c12ac8af19001221444c\n",
            "Job Status: job has successfully run\n"
          ],
          "name": "stdout"
        }
      ]
    },
    {
      "cell_type": "code",
      "metadata": {
        "id": "f13NEZYyi2sq",
        "colab_type": "code",
        "colab": {
          "base_uri": "https://localhost:8080/",
          "height": 279
        },
        "outputId": "1768cae8-a66c-4676-e50a-d2795359f608"
      },
      "source": [
        "frequency_sweep_results = job.result(timeout=120)\n",
        "sweep_values = []\n",
        "for i in range(len(frequency_sweep_results.results)):\n",
        "    # Get the results from the ith experiment\n",
        "    res = frequency_sweep_results.get_memory(i)*scale_factor\n",
        "    # Get the results for `qubit` from this experiment\n",
        "    sweep_values.append(res[qubit])\n",
        "\n",
        "plt.scatter(frequencies_GHz, np.real(sweep_values), color='black') # plot real part of sweep values\n",
        "plt.xlim([min(frequencies_GHz), max(frequencies_GHz)])\n",
        "plt.xlabel(\"Frequency [GHz]\")\n",
        "plt.ylabel(\"Measured signal [a.u.]\")\n",
        "plt.show()"
      ],
      "execution_count": 35,
      "outputs": [
        {
          "output_type": "display_data",
          "data": {
            "image/png": "[encoded data removed]",
            "text/plain": [
              "<Figure size 432x288 with 1 Axes>"
            ]
          },
          "metadata": {
            "tags": [],
            "needs_background": "light"
          }
        }
      ]
    },
    {
      "cell_type": "code",
      "metadata": {
        "id": "FK3dyftk_E_m",
        "colab_type": "code",
        "colab": {}
      },
      "source": [
        "from scipy.optimize import curve_fit\n",
        "\n",
        "def fit_function(x_values, y_values, function, init_params):\n",
        "    fitparams, conv = curve_fit(function, x_values, y_values, init_params)\n",
        "    y_fit = function(x_values, *fitparams)\n",
        "    \n",
        "    return fitparams, y_fit"
      ],
      "execution_count": 36,
      "outputs": []
    },
    {
      "cell_type": "code",
      "metadata": {
        "id": "Lh1DHGg1_PdG",
        "colab_type": "code",
        "colab": {}
      },
      "source": [
        "fit_params, y_fit = fit_function(frequencies_GHz,\n",
        "                                 np.real(sweep_values), \n",
        "                                 lambda x, A, q_freq, B, C: (A / np.pi) * (B / ((x - q_freq)**2 + B**2)) + C,\n",
        "                                 [-5, 4.975, 0.5, 1] # initial parameters for curve_fit\n",
        "                                )"
      ],
      "execution_count": 94,
      "outputs": []
    },
    {
      "cell_type": "code",
      "metadata": {
        "id": "LZrZL1tk_Q-G",
        "colab_type": "code",
        "colab": {
          "base_uri": "https://localhost:8080/",
          "height": 279
        },
        "outputId": "50bb4440-7f83-4472-a946-9b3af5a87f51"
      },
      "source": [
        "plt.scatter(frequencies_GHz, np.real(sweep_values), color='black')\n",
        "plt.plot(frequencies_GHz, y_fit, color='red')\n",
        "plt.xlim([min(frequencies_GHz), max(frequencies_GHz)])\n",
        "\n",
        "plt.xlabel(\"Frequency [GHz]\")\n",
        "plt.ylabel(\"Measured Signal [a.u.]\")\n",
        "plt.show()"
      ],
      "execution_count": 95,
      "outputs": [
        {
          "output_type": "display_data",
          "data": {
            "image/png": "[encoded data removed]",
            "text/plain": [
              "<Figure size 432x288 with 1 Axes>"
            ]
          },
          "metadata": {
            "tags": [],
            "needs_background": "light"
          }
        }
      ]
    },
    {
      "cell_type": "code",
      "metadata": {
        "id": "IberosNv_qy2",
        "colab_type": "code",
        "colab": {
          "base_uri": "https://localhost:8080/",
          "height": 236
        },
        "outputId": "904afbd7-65da-42a6-fe14-1baf588445e8"
      },
      "source": [
        "A, rough_qubit_frequency, B, C = fit_params\n",
        "rough_qubit_frequency = rough_qubit_frequency*GHz # make sure qubit freq is in Hz\n",
        "print(f\"We've updated our qubit frequency estimate from \"\n",
        "      f\"{round(backend_defaults.qubit_freq_est[qubit] / GHz, 5)} GHz to {round(rough_qubit_frequency/GHz, 5)} GHz.\")"
      ],
      "execution_count": 37,
      "outputs": [
        {
          "output_type": "error",
          "ename": "NameError",
          "evalue": "ignored",
          "traceback": [
            "\u001b[0;31m---------------------------------------------------------------------------\u001b[0m",
            "\u001b[0;31mNameError\u001b[0m                                 Traceback (most recent call last)",
            "\u001b[0;32m<ipython-input-37-48bb24e2b71b>\u001b[0m in \u001b[0;36m<module>\u001b[0;34m()\u001b[0m\n\u001b[0;32m----> 1\u001b[0;31m \u001b[0mA\u001b[0m\u001b[0;34m,\u001b[0m \u001b[0mrough_qubit_frequency\u001b[0m\u001b[0;34m,\u001b[0m \u001b[0mB\u001b[0m\u001b[0;34m,\u001b[0m \u001b[0mC\u001b[0m \u001b[0;34m=\u001b[0m \u001b[0mfit_params\u001b[0m\u001b[0;34m\u001b[0m\u001b[0;34m\u001b[0m\u001b[0m\n\u001b[0m\u001b[1;32m      2\u001b[0m \u001b[0mrough_qubit_frequency\u001b[0m \u001b[0;34m=\u001b[0m \u001b[0mrough_qubit_frequency\u001b[0m\u001b[0;34m*\u001b[0m\u001b[0mGHz\u001b[0m \u001b[0;31m# make sure qubit freq is in Hz\u001b[0m\u001b[0;34m\u001b[0m\u001b[0;34m\u001b[0m\u001b[0m\n\u001b[1;32m      3\u001b[0m print(f\"We've updated our qubit frequency estimate from \"\n\u001b[1;32m      4\u001b[0m       f\"{round(backend_defaults.qubit_freq_est[qubit] / GHz, 5)} GHz to {round(rough_qubit_frequency/GHz, 5)} GHz.\")\n",
            "\u001b[0;31mNameError\u001b[0m: name 'fit_params' is not defined"
          ]
        }
      ]
    },
    {
      "cell_type": "markdown",
      "metadata": {
        "id": "N4lG8-tFaJc9",
        "colab_type": "text"
      },
      "source": [
        "# πパルス"
      ]
    },
    {
      "cell_type": "code",
      "metadata": {
        "id": "3Bywnkv9ABki",
        "colab_type": "code",
        "colab": {}
      },
      "source": [
        "# This experiment uses these values from the previous experiment:\n",
        "    # `qubit`,\n",
        "    # `measure`, and\n",
        "    # `rough_qubit_frequency`.\n",
        "\n",
        "# Rabi experiment parameters\n",
        "num_rabi_points = 50\n",
        "\n",
        "# Drive amplitude values to iterate over: 50 amplitudes evenly spaced from 0 to 0.75\n",
        "drive_amp_min = 0\n",
        "drive_amp_max = 0.75\n",
        "drive_amps = np.linspace(drive_amp_min, drive_amp_max, num_rabi_points)"
      ],
      "execution_count": 19,
      "outputs": []
    },
    {
      "cell_type": "code",
      "metadata": {
        "id": "6zC-ziA0awlr",
        "colab_type": "code",
        "colab": {}
      },
      "source": [
        "# Build the Rabi experiments:\n",
        "#    A drive pulse at the qubit frequency, followed by a measurement,\n",
        "#    where we vary the drive amplitude each time.\n",
        "rabi_schedules = []\n",
        "for drive_amp in drive_amps:\n",
        "    rabi_pulse = pulse_lib.gaussian(duration=drive_samples, amp=drive_amp, \n",
        "                                    sigma=drive_sigma, name=f\"Rabi drive amplitude = {drive_amp}\")\n",
        "    this_schedule = pulse.Schedule(name=f\"Rabi drive amplitude = {drive_amp}\")\n",
        "    this_schedule += Play(rabi_pulse, drive_chan)\n",
        "    # Reuse the measure instruction from the frequency sweep experiment\n",
        "    this_schedule += measure << this_schedule.duration\n",
        "    rabi_schedules.append(this_schedule)"
      ],
      "execution_count": 20,
      "outputs": []
    },
    {
      "cell_type": "code",
      "metadata": {
        "id": "1jeuTWT-azrx",
        "colab_type": "code",
        "colab": {
          "base_uri": "https://localhost:8080/",
          "height": 168
        },
        "outputId": "08d93b00-7bbe-4199-89a3-972f5ac54391"
      },
      "source": [
        "rabi_schedules[-1].draw(label=True, scaling=1.0)"
      ],
      "execution_count": 21,
      "outputs": [
        {
          "output_type": "error",
          "ename": "TypeError",
          "evalue": "ignored",
          "traceback": [
            "\u001b[0;31m---------------------------------------------------------------------------\u001b[0m",
            "\u001b[0;31mTypeError\u001b[0m                                 Traceback (most recent call last)",
            "\u001b[0;32m<ipython-input-21-eaa495b9a633>\u001b[0m in \u001b[0;36m<module>\u001b[0;34m()\u001b[0m\n\u001b[0;32m----> 1\u001b[0;31m \u001b[0mrabi_schedules\u001b[0m\u001b[0;34m[\u001b[0m\u001b[0;34m-\u001b[0m\u001b[0;36m1\u001b[0m\u001b[0;34m]\u001b[0m\u001b[0;34m.\u001b[0m\u001b[0mdraw\u001b[0m\u001b[0;34m(\u001b[0m\u001b[0mlabel\u001b[0m\u001b[0;34m=\u001b[0m\u001b[0;32mTrue\u001b[0m\u001b[0;34m,\u001b[0m \u001b[0mscaling\u001b[0m\u001b[0;34m=\u001b[0m\u001b[0;36m1.0\u001b[0m\u001b[0;34m)\u001b[0m\u001b[0;34m\u001b[0m\u001b[0;34m\u001b[0m\u001b[0m\n\u001b[0m",
            "\u001b[0;31mTypeError\u001b[0m: draw() got an unexpected keyword argument 'scaling'"
          ]
        }
      ]
    },
    {
      "cell_type": "code",
      "metadata": {
        "id": "ueOi5XJYa1Fx",
        "colab_type": "code",
        "colab": {
          "base_uri": "https://localhost:8080/",
          "height": 219
        },
        "outputId": "66ff25e2-131e-4dfc-e190-4ed60e8c28f5"
      },
      "source": [
        "# Assemble the schedules into a Qobj\n",
        "num_shots_per_point = 1024\n",
        "\n",
        "rabi_experiment_program = assemble(rabi_schedules,\n",
        "                                   backend=backend,\n",
        "                                   meas_level=1,\n",
        "                                   meas_return='avg',\n",
        "                                   shots=num_shots_per_point,\n",
        "                                   schedule_los=[{drive_chan: rough_qubit_frequency}]\n",
        "                                                * num_rabi_points)"
      ],
      "execution_count": 22,
      "outputs": [
        {
          "output_type": "error",
          "ename": "NameError",
          "evalue": "ignored",
          "traceback": [
            "\u001b[0;31m---------------------------------------------------------------------------\u001b[0m",
            "\u001b[0;31mNameError\u001b[0m                                 Traceback (most recent call last)",
            "\u001b[0;32m<ipython-input-22-6ebff16fb451>\u001b[0m in \u001b[0;36m<module>\u001b[0;34m()\u001b[0m\n\u001b[1;32m      7\u001b[0m                                    \u001b[0mmeas_return\u001b[0m\u001b[0;34m=\u001b[0m\u001b[0;34m'avg'\u001b[0m\u001b[0;34m,\u001b[0m\u001b[0;34m\u001b[0m\u001b[0;34m\u001b[0m\u001b[0m\n\u001b[1;32m      8\u001b[0m                                    \u001b[0mshots\u001b[0m\u001b[0;34m=\u001b[0m\u001b[0mnum_shots_per_point\u001b[0m\u001b[0;34m,\u001b[0m\u001b[0;34m\u001b[0m\u001b[0;34m\u001b[0m\u001b[0m\n\u001b[0;32m----> 9\u001b[0;31m                                    \u001b[0mschedule_los\u001b[0m\u001b[0;34m=\u001b[0m\u001b[0;34m[\u001b[0m\u001b[0;34m{\u001b[0m\u001b[0mdrive_chan\u001b[0m\u001b[0;34m:\u001b[0m \u001b[0mrough_qubit_frequency\u001b[0m\u001b[0;34m}\u001b[0m\u001b[0;34m]\u001b[0m\u001b[0;34m\u001b[0m\u001b[0;34m\u001b[0m\u001b[0m\n\u001b[0m\u001b[1;32m     10\u001b[0m                                                 * num_rabi_points)\n",
            "\u001b[0;31mNameError\u001b[0m: name 'rough_qubit_frequency' is not defined"
          ]
        }
      ]
    },
    {
      "cell_type": "code",
      "metadata": {
        "id": "OerD5sPwbA0Q",
        "colab_type": "code",
        "colab": {
          "base_uri": "https://localhost:8080/",
          "height": 202
        },
        "outputId": "7e4a473a-61d4-4625-a625-8d725222d520"
      },
      "source": [
        "# print(job.job_id())\n",
        "job = backend.run(rabi_experiment_program)\n",
        "job_monitor(job)"
      ],
      "execution_count": 42,
      "outputs": [
        {
          "output_type": "error",
          "ename": "NameError",
          "evalue": "ignored",
          "traceback": [
            "\u001b[0;31m---------------------------------------------------------------------------\u001b[0m",
            "\u001b[0;31mNameError\u001b[0m                                 Traceback (most recent call last)",
            "\u001b[0;32m<ipython-input-42-880cb1906c75>\u001b[0m in \u001b[0;36m<module>\u001b[0;34m()\u001b[0m\n\u001b[1;32m      1\u001b[0m \u001b[0;31m# print(job.job_id())\u001b[0m\u001b[0;34m\u001b[0m\u001b[0;34m\u001b[0m\u001b[0;34m\u001b[0m\u001b[0m\n\u001b[0;32m----> 2\u001b[0;31m \u001b[0mjob\u001b[0m \u001b[0;34m=\u001b[0m \u001b[0mbackend\u001b[0m\u001b[0;34m.\u001b[0m\u001b[0mrun\u001b[0m\u001b[0;34m(\u001b[0m\u001b[0mrabi_experiment_program\u001b[0m\u001b[0;34m)\u001b[0m\u001b[0;34m\u001b[0m\u001b[0;34m\u001b[0m\u001b[0m\n\u001b[0m\u001b[1;32m      3\u001b[0m \u001b[0mjob_monitor\u001b[0m\u001b[0;34m(\u001b[0m\u001b[0mjob\u001b[0m\u001b[0;34m)\u001b[0m\u001b[0;34m\u001b[0m\u001b[0;34m\u001b[0m\u001b[0m\n",
            "\u001b[0;31mNameError\u001b[0m: name 'rabi_experiment_program' is not defined"
          ]
        }
      ]
    },
    {
      "cell_type": "code",
      "metadata": {
        "id": "lN8L6E-KbDJQ",
        "colab_type": "code",
        "colab": {}
      },
      "source": [
        "rabi_results = job.result(timeout=120)"
      ],
      "execution_count": 43,
      "outputs": []
    },
    {
      "cell_type": "code",
      "metadata": {
        "id": "Ufa3z3OrbiX1",
        "colab_type": "code",
        "colab": {}
      },
      "source": [
        "# center data around 0\n",
        "def baseline_remove(values):\n",
        "    return np.array(values) - np.mean(values)"
      ],
      "execution_count": 23,
      "outputs": []
    },
    {
      "cell_type": "code",
      "metadata": {
        "id": "6mui1aY7bjrk",
        "colab_type": "code",
        "colab": {
          "base_uri": "https://localhost:8080/",
          "height": 279
        },
        "outputId": "e91c68f5-2f08-4350-bc04-f2fb67630567"
      },
      "source": [
        "rabi_values = []\n",
        "for i in range(num_rabi_points):\n",
        "    # Get the results for `qubit` from the ith experiment\n",
        "    rabi_values.append(rabi_results.get_memory(i)[qubit]*scale_factor)\n",
        "\n",
        "rabi_values = np.real(baseline_remove(rabi_values))\n",
        "\n",
        "plt.xlabel(\"Drive amp [a.u.]\")\n",
        "plt.ylabel(\"Measured signal [a.u.]\")\n",
        "plt.scatter(drive_amps, rabi_values, color='black') # plot real part of Rabi values\n",
        "plt.show()"
      ],
      "execution_count": 26,
      "outputs": [
        {
          "output_type": "display_data",
          "data": {
            "image/png": "[encoded data removed]",
            "text/plain": [
              "<Figure size 432x288 with 1 Axes>"
            ]
          },
          "metadata": {
            "tags": [],
            "needs_background": "light"
          }
        }
      ]
    },
    {
      "cell_type": "code",
      "metadata": {
        "id": "_H707x1SblTG",
        "colab_type": "code",
        "colab": {
          "base_uri": "https://localhost:8080/",
          "height": 284
        },
        "outputId": "56ac9143-4ef7-48c9-9ac0-3d7d3c8c0761"
      },
      "source": [
        "fit_params, y_fit = fit_function(drive_amps,\n",
        "                                 rabi_values, \n",
        "                                 lambda x, A, B, drive_period, phi: (A*np.cos(2*np.pi*x/drive_period - phi) + B),\n",
        "                                 [3, 0.1, 0.5, 0])\n",
        "\n",
        "plt.scatter(drive_amps, rabi_values, color='black')\n",
        "plt.plot(drive_amps, y_fit, color='red')\n",
        "\n",
        "drive_period = fit_params[2] # get period of rabi oscillation\n",
        "\n",
        "plt.axvline(drive_period/2, color='red', linestyle='--')\n",
        "plt.axvline(drive_period, color='red', linestyle='--')\n",
        "plt.annotate(\"\", xy=(drive_period, 0), xytext=(drive_period/2,0), arrowprops=dict(arrowstyle=\"<->\", color='red'))\n",
        "plt.annotate(\"$\\pi$\", xy=(drive_period/2-0.03, 0.1), color='red')\n",
        "\n",
        "plt.xlabel(\"Drive amp [a.u.]\", fontsize=15)\n",
        "plt.ylabel(\"Measured signal [a.u.]\", fontsize=15)\n",
        "plt.show()"
      ],
      "execution_count": 65,
      "outputs": [
        {
          "output_type": "display_data",
          "data": {
            "image/png": "[encoded data removed]",
            "text/plain": [
              "<Figure size 432x288 with 1 Axes>"
            ]
          },
          "metadata": {
            "tags": [],
            "needs_background": "light"
          }
        }
      ]
    },
    {
      "cell_type": "code",
      "metadata": {
        "id": "-ft68H4PcBC7",
        "colab_type": "code",
        "colab": {
          "base_uri": "https://localhost:8080/",
          "height": 34
        },
        "outputId": "ae647381-b0d9-4d9f-85aa-08fea338d5ad"
      },
      "source": [
        "pi_amp = abs(drive_period / 2)\n",
        "print(f\"Pi Amplitude = {pi_amp}\")"
      ],
      "execution_count": 66,
      "outputs": [
        {
          "output_type": "stream",
          "text": [
            "Pi Amplitude = 0.36162172838719725\n"
          ],
          "name": "stdout"
        }
      ]
    },
    {
      "cell_type": "code",
      "metadata": {
        "id": "WKwUBUqMcIFa",
        "colab_type": "code",
        "colab": {}
      },
      "source": [
        "num_rabi_points = 50\n",
        "\n",
        "drive_amp_min = 0\n",
        "drive_amp_max = 0.75\n",
        "drive_amps = np.linspace(drive_amp_min, drive_amp_max, num_rabi_points)"
      ],
      "execution_count": 24,
      "outputs": []
    },
    {
      "cell_type": "code",
      "metadata": {
        "id": "6v5sBm1acyXQ",
        "colab_type": "code",
        "colab": {
          "base_uri": "https://localhost:8080/",
          "height": 343
        },
        "outputId": "d50377cd-b95c-44e6-b1ac-57decf7d4536"
      },
      "source": [
        "center_frequency_Hz = 4.97448*GHz\n",
        "frequency_span_Hz = 15 * MHz\n",
        "frequency_step_Hz = 0.5 * MHz\n",
        "# We will sweep 20 MHz above and 20 MHz below the estimated frequency\n",
        "frequency_min = center_frequency_Hz - frequency_span_Hz / 2\n",
        "frequency_max = center_frequency_Hz + frequency_span_Hz / 2\n",
        "\n",
        "frequencies_GHz = np.arange(frequency_min / GHz, \n",
        "                            frequency_max / GHz, \n",
        "                            frequency_step_Hz / GHz)\n",
        "frequencies_Hz = frequencies_GHz*GHz\n",
        "\n",
        "drive_sigma_us = 1                 # This determines the actual width of the gaussian\n",
        "drive_samples_us = drive_sigma_us*8        # This is a truncating parameter, because gaussians don't have \n",
        "                                           # a natural finite length\n",
        "\n",
        "drive_sigma = get_closest_multiple_of_16(drive_sigma_us * us /dt)  \n",
        "\n",
        "num_rabi_points = 75\n",
        "# Drive amplitude values to iterate over: 50 amplitudes evenly spaced from 0 to 0.75\n",
        "drive_amp_min = 0\n",
        "drive_amp_max = 1\n",
        "drive_amps = np.linspace(drive_amp_min, drive_amp_max, num_rabi_points)\n",
        "\n",
        "rabi_matrix = []\n",
        "rabi_matrix_complex = []\n",
        "\n",
        "for frq in frequencies_Hz:\n",
        "    print(frq/GHz)\n",
        "    rabi_schedules = []\n",
        "    for drive_amp in drive_amps:\n",
        "        #rabi_pulse = pulse_lib.gaussian(duration=drive_samples, amp=drive_amp, sigma=drive_sigma, name=f\"Rabi drive amplitude = {drive_amp}\")\n",
        "        rabi_pulse = pulse_lib.constant(duration=drive_samples, amp=drive_amp, name=f\"Rabi drive amplitude = {drive_amp}\")\n",
        "        this_schedule = pulse.Schedule(name=f\"Rabi drive amplitude = {drive_amp}\")\n",
        "        this_schedule += Play(rabi_pulse, drive_chan)\n",
        "        # Reuse the measure instruction from the frequency sweep experiment\n",
        "        this_schedule += measure << this_schedule.duration\n",
        "        rabi_schedules.append(this_schedule)\n",
        "\n",
        "    num_shots_per_point = 512\n",
        "\n",
        "    rabi_experiment_program = assemble(rabi_schedules,\n",
        "                                      backend=backend,\n",
        "                                      meas_level=1,\n",
        "                                      meas_return='avg',\n",
        "                                      shots=num_shots_per_point,\n",
        "                                      schedule_los=[{drive_chan: frq}]\n",
        "                                                    * num_rabi_points)\n",
        "    \n",
        "    job = backend.run(rabi_experiment_program)\n",
        "    job_monitor(job)\n",
        "\n",
        "    rabi_results = job.result(timeout=120)\n",
        "\n",
        "    rabi_values = []\n",
        "    for i in range(num_rabi_points):\n",
        "        # Get the results for `qubit` from the ith experiment\n",
        "        rabi_values.append(rabi_results.get_memory(i)[qubit]*scale_factor)\n",
        "    \n",
        "    rabi_matrix_complex.append(rabi_values)\n",
        "    rabi_values = np.real(baseline_remove(rabi_values))\n",
        "\n",
        "    rabi_matrix.append(rabi_values)"
      ],
      "execution_count": null,
      "outputs": [
        {
          "output_type": "stream",
          "text": [
            "4.96698\n"
          ],
          "name": "stdout"
        },
        {
          "output_type": "stream",
          "text": [
            "/usr/local/lib/python3.6/dist-packages/qiskit/compiler/assemble.py:323: RuntimeWarning: Dynamic rep rates not supported on this backend. rep_time will be used instead of rep_delay.\n",
            "  RuntimeWarning,\n"
          ],
          "name": "stderr"
        },
        {
          "output_type": "stream",
          "text": [
            "Job Status: job has successfully run\n",
            "4.96748\n",
            "Job Status: job has successfully run\n",
            "4.96798\n",
            "Job Status: job has successfully run\n",
            "4.96848\n",
            "Job Status: job has successfully run\n",
            "4.968979999999999\n",
            "Job Status: job has successfully run\n",
            "4.969479999999999\n",
            "Job Status: job has successfully run\n",
            "4.969979999999999\n",
            "Job Status: job has successfully run\n",
            "4.9704799999999985\n",
            "Job Status: job is queued (3)     "
          ],
          "name": "stdout"
        }
      ]
    },
    {
      "cell_type": "code",
      "metadata": {
        "id": "XsPJa2GudH0V",
        "colab_type": "code",
        "colab": {}
      },
      "source": [
        "sns.heatmap(rabi_matrix)"
      ],
      "execution_count": null,
      "outputs": []
    },
    {
      "cell_type": "code",
      "metadata": {
        "id": "JB6KdO0AfoFC",
        "colab_type": "code",
        "colab": {}
      },
      "source": [
        "plt.plot(rabi_matrix[1])"
      ],
      "execution_count": null,
      "outputs": []
    },
    {
      "cell_type": "code",
      "metadata": {
        "id": "M_Zyz4PaalLA",
        "colab_type": "code",
        "colab": {}
      },
      "source": [
        "sns.heatmap(np.abs(rabi_matrix_complex)-np.mean(np.abs(rabi_matrix_complex[1])), cmap='CMRmap')"
      ],
      "execution_count": null,
      "outputs": []
    },
    {
      "cell_type": "code",
      "metadata": {
        "id": "CeYj2euDxduo",
        "colab_type": "code",
        "colab": {}
      },
      "source": [
        "plt.plot(np.abs(rabi_matrix_complex[1])-np.mean(np.abs(rabi_matrix_complex[1])))"
      ],
      "execution_count": null,
      "outputs": []
    },
    {
      "cell_type": "code",
      "metadata": {
        "id": "J_pshQZZwExw",
        "colab_type": "code",
        "colab": {}
      },
      "source": [
        "import pandas as pd\n",
        "\n",
        "df = pd.DataFrame(data=np.abs(rabi_matrix_complex), index=np.round(frequencies_GHz, 4), columns=np.round(drive_amps,2))"
      ],
      "execution_count": null,
      "outputs": []
    },
    {
      "cell_type": "code",
      "metadata": {
        "id": "hTzkFpTfHELU",
        "colab_type": "code",
        "colab": {}
      },
      "source": [
        "sns.heatmap(df)"
      ],
      "execution_count": null,
      "outputs": []
    },
    {
      "cell_type": "code",
      "metadata": {
        "id": "Gi-zgmPr-OuC",
        "colab_type": "code",
        "colab": {}
      },
      "source": [
        ""
      ],
      "execution_count": 64,
      "outputs": []
    },
    {
      "cell_type": "code",
      "metadata": {
        "id": "4IWooQt9vKjc",
        "colab_type": "code",
        "colab": {}
      },
      "source": [
        "import numpy as np\n",
        "from qiskit.ignis.characterization.calibrations import rabi_schedules, RabiFitter\n",
        "\n",
        "from qiskit.pulse import DriveChannel\n",
        "from qiskit.compiler import assemble\n",
        "from qiskit.qobj.utils import MeasLevel, MeasReturnType"
      ],
      "execution_count": 26,
      "outputs": []
    },
    {
      "cell_type": "code",
      "metadata": {
        "id": "yzLoIqyBvNSR",
        "colab_type": "code",
        "colab": {}
      },
      "source": [
        "# The pulse simulator\n",
        "from qiskit.providers.aer import PulseSimulator\n",
        "\n",
        "# Object for representing physical models\n",
        "from qiskit.providers.aer.pulse import PulseSystemModel\n",
        "\n",
        "# Mock Armonk backend\n",
        "from qiskit.test.mock.backends.armonk.fake_armonk import FakeArmonk\n"
      ],
      "execution_count": 27,
      "outputs": []
    },
    {
      "cell_type": "code",
      "metadata": {
        "id": "GkfV7Gcq6hRh",
        "colab_type": "code",
        "colab": {
          "base_uri": "https://localhost:8080/",
          "height": 35
        },
        "outputId": "c6fcf683-2481-49d4-cb94-859bc4031fb4"
      },
      "source": [
        "from qiskit.test.mock import FakeVigo\n",
        "\n",
        "fake_backend = FakeVigo()\n",
        "str(fake_backend.configuration())"
      ],
      "execution_count": 28,
      "outputs": [
        {
          "output_type": "execute_result",
          "data": {
            "application/vnd.google.colaboratory.intrinsic+json": {
              "type": "string"
            },
            "text/plain": [
              "'<qiskit.providers.models.backendconfiguration.QasmBackendConfiguration object at 0x7f718912efd0>'"
            ]
          },
          "metadata": {
            "tags": []
          },
          "execution_count": 28
        }
      ]
    },
    {
      "cell_type": "code",
      "metadata": {
        "id": "g-2myFktvyVG",
        "colab_type": "code",
        "colab": {}
      },
      "source": [
        "armonk_backend = FakeArmonk()"
      ],
      "execution_count": 29,
      "outputs": []
    },
    {
      "cell_type": "code",
      "metadata": {
        "id": "R5Msj_V5wCw-",
        "colab_type": "code",
        "colab": {
          "base_uri": "https://localhost:8080/",
          "height": 34
        },
        "outputId": "77f3ead2-dc61-4510-ea68-6343599e8674"
      },
      "source": [
        "print(armonk_backend.configuration())"
      ],
      "execution_count": 30,
      "outputs": [
        {
          "output_type": "stream",
          "text": [
            "<qiskit.providers.models.backendconfiguration.PulseBackendConfiguration object at 0x7f718911a908>\n"
          ],
          "name": "stdout"
        }
      ]
    },
    {
      "cell_type": "code",
      "metadata": {
        "id": "WGi4uOdFv88i",
        "colab_type": "code",
        "colab": {}
      },
      "source": [
        "getattr(armonk_backend.configuration(), 'hamiltonian')['vars']['omegad0'] = 63455017.85\n",
        "\n",
        "# set the qubit frequency\n",
        "freq_est = 4.97e9\n",
        "armonk_backend.defaults().qubit_freq_est = [freq_est]\n",
        "getattr(armonk_backend.configuration(), 'hamiltonian')['vars']['wq0'] = 2*np.pi*freq_est"
      ],
      "execution_count": 31,
      "outputs": []
    },
    {
      "cell_type": "code",
      "metadata": {
        "id": "onv0a0ZBw_HA",
        "colab_type": "code",
        "colab": {
          "base_uri": "https://localhost:8080/",
          "height": 190
        },
        "outputId": "06a600e9-c938-4130-e5f3-d3b1374b9e28"
      },
      "source": [
        "armonk_backend.configuration().hamiltonian"
      ],
      "execution_count": 32,
      "outputs": [
        {
          "output_type": "execute_result",
          "data": {
            "text/plain": [
              "{'description': 'Qubits are modeled as Duffing oscillators. In this case, the system includes higher energy states, i.e. not just |0> and |1>. The Pauli operators are generalized via the following set of transformations:\\n\\n$(\\\\mathbb{I}-\\\\sigma_{i}^z)/2 \\\\rightarrow O_i \\\\equiv b^\\\\dagger_{i} b_{i}$,\\n\\n$\\\\sigma_{+} \\\\rightarrow b^\\\\dagger$,\\n\\n$\\\\sigma_{-} \\\\rightarrow b$,\\n\\n$\\\\sigma_{i}^X \\\\rightarrow b^\\\\dagger_{i} + b_{i}$.\\n\\nQubits are coupled through resonator buses. The provided Hamiltonian has been projected into the zero excitation subspace of the resonator buses leading to an effective qubit-qubit flip-flop interaction. The qubit resonance frequencies in the Hamiltonian are the cavity dressed frequencies and not exactly what is returned by the backend defaults, which also includes the dressing due to the qubit-qubit interactions.\\n\\nQuantities are returned in angular frequencies, with units 2*pi*GHz.\\n\\nWARNING: Currently not all system Hamiltonian information is available to the public, missing values have been replaced with 0.\\n',\n",
              " 'h_latex': '\\\\begin{align} \\\\mathcal{H}/\\\\hbar = & \\\\sum_{i=0}^{0}\\\\left(\\\\frac{\\\\omega_{q,i}}{2}(\\\\mathbb{I}-\\\\sigma_i^{z})+\\\\frac{\\\\Delta_{i}}{2}(O_i^2-O_i)+\\\\Omega_{d,i}D_i(t)\\\\sigma_i^{X}\\\\right) \\\\\\\\ \\\\end{align}',\n",
              " 'h_str': ['_SUM[i,0,0,wq{i}/2*(I{i}-Z{i})]',\n",
              "  '_SUM[i,0,0,delta{i}/2*O{i}*O{i}]',\n",
              "  '_SUM[i,0,0,-delta{i}/2*O{i}]',\n",
              "  '_SUM[i,0,0,omegad{i}*X{i}||D{i}]'],\n",
              " 'osc': {},\n",
              " 'qub': {'0': 3},\n",
              " 'vars': {'delta0': 0, 'omegad0': 63455017.85, 'wq0': 31227430976.682545}}"
            ]
          },
          "metadata": {
            "tags": []
          },
          "execution_count": 32
        }
      ]
    },
    {
      "cell_type": "code",
      "metadata": {
        "id": "2E6r4rLExAfM",
        "colab_type": "code",
        "colab": {
          "base_uri": "https://localhost:8080/",
          "height": 34
        },
        "outputId": "c33c2077-ca4d-4561-cdc7-e7cbac698842"
      },
      "source": [
        "armonk_backend.defaults().qubit_freq_est"
      ],
      "execution_count": 33,
      "outputs": [
        {
          "output_type": "execute_result",
          "data": {
            "text/plain": [
              "[4970000000.0]"
            ]
          },
          "metadata": {
            "tags": []
          },
          "execution_count": 33
        }
      ]
    },
    {
      "cell_type": "code",
      "metadata": {
        "id": "zVKogS9DxEM9",
        "colab_type": "code",
        "colab": {}
      },
      "source": [
        "armonk_model = PulseSystemModel.from_backend(armonk_backend)"
      ],
      "execution_count": 34,
      "outputs": []
    },
    {
      "cell_type": "code",
      "metadata": {
        "id": "cRdV_zAmxdLy",
        "colab_type": "code",
        "colab": {}
      },
      "source": [
        "qubits = [0]\n",
        "\n",
        "# drive amplitudes to use\n",
        "num_exps = 64\n",
        "drive_amps = np.linspace(0, 1.0, num_exps)\n",
        "\n",
        "# drive shape parameters\n",
        "drive_duration = 2048\n",
        "drive_sigma = 256\n",
        "\n",
        "# list of drive channels\n",
        "drive_channels = [DriveChannel(0)]\n",
        "\n",
        "# construct the schedules\n",
        "rabi_schedules, xdata = rabi_schedules(amp_list=drive_amps,\n",
        "                                       qubits=qubits,\n",
        "                                       pulse_width=drive_duration,\n",
        "                                       pulse_sigma=drive_sigma,\n",
        "                                       drives=drive_channels,\n",
        "                                       inst_map=armonk_backend.defaults().instruction_schedule_map,\n",
        "                                       meas_map=armonk_backend.configuration().meas_map)"
      ],
      "execution_count": 35,
      "outputs": []
    },
    {
      "cell_type": "code",
      "metadata": {
        "id": "14sQ-CCPxfcM",
        "colab_type": "code",
        "colab": {
          "base_uri": "https://localhost:8080/",
          "height": 71
        },
        "outputId": "3ab20359-ec95-4e21-f7b0-97a40f7df7e6"
      },
      "source": [
        "backend_sim = PulseSimulator()\n",
        "\n",
        "rabi_qobj = assemble(rabi_schedules,\n",
        "                     backend=backend_sim,\n",
        "                     meas_level=1,\n",
        "                     meas_return='avg',\n",
        "                     shots=512)"
      ],
      "execution_count": 36,
      "outputs": [
        {
          "output_type": "stream",
          "text": [
            "/usr/local/lib/python3.6/dist-packages/qiskit/compiler/assemble.py:323: RuntimeWarning: Dynamic rep rates not supported on this backend. rep_time will be used instead of rep_delay.\n",
            "  RuntimeWarning,\n"
          ],
          "name": "stderr"
        }
      ]
    },
    {
      "cell_type": "code",
      "metadata": {
        "id": "v3nSTFJTxhfi",
        "colab_type": "code",
        "colab": {}
      },
      "source": [
        "sim_result = backend_sim.run(rabi_qobj, armonk_model).result()"
      ],
      "execution_count": 37,
      "outputs": []
    },
    {
      "cell_type": "code",
      "metadata": {
        "id": "pHdfvQmExj1t",
        "colab_type": "code",
        "colab": {
          "base_uri": "https://localhost:8080/",
          "height": 339
        },
        "outputId": "b518ac03-ff08-4b9f-9f26-549909a0df8b"
      },
      "source": [
        "rabi_fit = RabiFitter(sim_result, xdata, qubits, fit_p0 = [1.5, 2, 0, 0])\n",
        "\n",
        "# get the pi amplitude\n",
        "pi_amp = rabi_fit.pi_amplitude(0)\n",
        "\n",
        "# plot\n",
        "rabi_fit.plot(0)\n",
        "print('Pi Amp: %f'%pi_amp)"
      ],
      "execution_count": 38,
      "outputs": [
        {
          "output_type": "stream",
          "text": [
            "Pi Amp: 0.200969\n"
          ],
          "name": "stdout"
        },
        {
          "output_type": "display_data",
          "data": {
            "image/png": "[encoded data removed]",
            "text/plain": [
              "<Figure size 432x288 with 1 Axes>"
            ]
          },
          "metadata": {
            "tags": [],
            "needs_background": "light"
          }
        }
      ]
    },
    {
      "cell_type": "code",
      "metadata": {
        "id": "0oogJxlVxtkS",
        "colab_type": "code",
        "colab": {}
      },
      "source": [
        "rabi_values = []\n",
        "for i in range(num_exps):\n",
        "    # Get the results for `qubit` from the ith experiment\n",
        "    rabi_values.append(sim_result.get_memory(i)[0])"
      ],
      "execution_count": 39,
      "outputs": []
    },
    {
      "cell_type": "code",
      "metadata": {
        "id": "Owj1W0sQzB7J",
        "colab_type": "code",
        "colab": {
          "base_uri": "https://localhost:8080/",
          "height": 336
        },
        "outputId": "5a18d525-3e95-44b4-dd82-fd0b9e1e61b2"
      },
      "source": [
        "plt.plot(rabi_values)"
      ],
      "execution_count": 40,
      "outputs": [
        {
          "output_type": "stream",
          "text": [
            "/usr/local/lib/python3.6/dist-packages/numpy/core/_asarray.py:85: ComplexWarning: Casting complex values to real discards the imaginary part\n",
            "  return array(a, dtype, copy=False, order=order)\n"
          ],
          "name": "stderr"
        },
        {
          "output_type": "execute_result",
          "data": {
            "text/plain": [
              "[<matplotlib.lines.Line2D at 0x7f71858a46a0>]"
            ]
          },
          "metadata": {
            "tags": []
          },
          "execution_count": 40
        },
        {
          "output_type": "display_data",
          "data": {
            "image/png": "[encoded data removed]",
            "text/plain": [
              "<Figure size 432x288 with 1 Axes>"
            ]
          },
          "metadata": {
            "tags": [],
            "needs_background": "light"
          }
        }
      ]
    },
    {
      "cell_type": "code",
      "metadata": {
        "id": "IppjTPb4zQKx",
        "colab_type": "code",
        "colab": {}
      },
      "source": [
        "num_rabi_points = 50\n",
        "\n",
        "drive_amp_min = 0\n",
        "drive_amp_max = 0.75\n",
        "drive_amps = np.linspace(drive_amp_min, drive_amp_max, num_rabi_points)"
      ],
      "execution_count": 41,
      "outputs": []
    },
    {
      "cell_type": "code",
      "metadata": {
        "id": "_HbVpdOl0qaH",
        "colab_type": "code",
        "colab": {
          "base_uri": "https://localhost:8080/",
          "height": 547
        },
        "outputId": "a0b03027-855b-4aa0-9c8c-c26e94929ef3"
      },
      "source": [
        "center_frequency_Hz = 4.97448*GHz\n",
        "frequency_span_Hz = 10 * MHz\n",
        "frequency_step_Hz = 1 * MHz\n",
        "# We will sweep 20 MHz above and 20 MHz below the estimated frequency\n",
        "frequency_min = center_frequency_Hz - frequency_span_Hz / 2\n",
        "frequency_max = center_frequency_Hz + frequency_span_Hz / 2\n",
        "\n",
        "frequencies_GHz = np.arange(frequency_min / GHz, \n",
        "                            frequency_max / GHz, \n",
        "                            frequency_step_Hz / GHz)\n",
        "frequencies_Hz = frequencies_GHz*GHz\n",
        "\n",
        "drive_sigma_us = 0.5                 # This determines the actual width of the gaussian\n",
        "drive_samples_us = drive_sigma_us*8        # This is a truncating parameter, because gaussians don't have \n",
        "                                           # a natural finite length\n",
        "\n",
        "drive_sigma = get_closest_multiple_of_16(drive_sigma_us * us /dt)  \n",
        "drive_samples = get_closest_multiple_of_16(drive_samples_us * us /dt)  \n",
        "\n",
        "num_rabi_points = 75\n",
        "# Drive amplitude values to iterate over: 50 amplitudes evenly spaced from 0 to 0.75\n",
        "drive_amp_min = 0\n",
        "drive_amp_max = 1\n",
        "drive_amps = np.linspace(drive_amp_min, drive_amp_max, num_rabi_points)\n",
        "\n",
        "rabi_matrix = []\n",
        "rabi_matrix_complex = []\n",
        "\n",
        "for frq in frequencies_Hz:\n",
        "    print(frq/GHz)\n",
        "    rabi_schedules = []\n",
        "    for drive_amp in drive_amps:\n",
        "        #rabi_pulse = pulse_lib.gaussian(duration=drive_samples, amp=drive_amp, sigma=drive_sigma, name=f\"Rabi drive amplitude = {drive_amp}\")\n",
        "        rabi_pulse = pulse_lib.constant(duration=drive_samples, amp=drive_amp, name=f\"Rabi drive amplitude = {drive_amp}\")\n",
        "        this_schedule = pulse.Schedule(name=f\"Rabi drive amplitude = {drive_amp}\")\n",
        "        this_schedule += Play(rabi_pulse, drive_chan)\n",
        "        # Reuse the measure instruction from the frequency sweep experiment\n",
        "        this_schedule += measure << this_schedule.duration\n",
        "        rabi_schedules.append(this_schedule)\n",
        "\n",
        "    num_shots_per_point = 1024\n",
        "\n",
        "    backend_sim = PulseSimulator()\n",
        "\n",
        "    rabi_experiment_program = assemble(rabi_schedules,\n",
        "                                      backend=backend_sim,\n",
        "                                      meas_level=1,\n",
        "                                      meas_return='avg',\n",
        "                                      shots=num_shots_per_point,\n",
        "                                      schedule_los=[{drive_chan: frq}]\n",
        "                                                    * num_rabi_points)\n",
        "\n",
        "    sim_result = backend_sim.run(rabi_experiment_program, armonk_model).result()\n",
        "\n",
        "    rabi_values = []\n",
        "    for i in range(num_rabi_points):\n",
        "        # Get the results for `qubit` from the ith experiment\n",
        "        rabi_values.append(sim_result.get_memory(i)[qubit])\n",
        "    \n",
        "    rabi_matrix_complex.append(rabi_values)\n",
        "    rabi_values = np.real(baseline_remove(rabi_values))\n",
        "\n",
        "    rabi_matrix.append(rabi_values)"
      ],
      "execution_count": 42,
      "outputs": [
        {
          "output_type": "stream",
          "text": [
            "4.96948\n"
          ],
          "name": "stdout"
        },
        {
          "output_type": "stream",
          "text": [
            "/usr/local/lib/python3.6/dist-packages/qiskit/compiler/assemble.py:323: RuntimeWarning: Dynamic rep rates not supported on this backend. rep_time will be used instead of rep_delay.\n",
            "  RuntimeWarning,\n"
          ],
          "name": "stderr"
        },
        {
          "output_type": "stream",
          "text": [
            "4.97048\n"
          ],
          "name": "stdout"
        },
        {
          "output_type": "stream",
          "text": [
            "/usr/local/lib/python3.6/dist-packages/qiskit/compiler/assemble.py:323: RuntimeWarning: Dynamic rep rates not supported on this backend. rep_time will be used instead of rep_delay.\n",
            "  RuntimeWarning,\n"
          ],
          "name": "stderr"
        },
        {
          "output_type": "stream",
          "text": [
            "4.971480000000001\n"
          ],
          "name": "stdout"
        },
        {
          "output_type": "stream",
          "text": [
            "/usr/local/lib/python3.6/dist-packages/qiskit/compiler/assemble.py:323: RuntimeWarning: Dynamic rep rates not supported on this backend. rep_time will be used instead of rep_delay.\n",
            "  RuntimeWarning,\n"
          ],
          "name": "stderr"
        },
        {
          "output_type": "stream",
          "text": [
            "4.972480000000001\n"
          ],
          "name": "stdout"
        },
        {
          "output_type": "stream",
          "text": [
            "/usr/local/lib/python3.6/dist-packages/qiskit/compiler/assemble.py:323: RuntimeWarning: Dynamic rep rates not supported on this backend. rep_time will be used instead of rep_delay.\n",
            "  RuntimeWarning,\n"
          ],
          "name": "stderr"
        },
        {
          "output_type": "stream",
          "text": [
            "4.973480000000001\n"
          ],
          "name": "stdout"
        },
        {
          "output_type": "stream",
          "text": [
            "/usr/local/lib/python3.6/dist-packages/qiskit/compiler/assemble.py:323: RuntimeWarning: Dynamic rep rates not supported on this backend. rep_time will be used instead of rep_delay.\n",
            "  RuntimeWarning,\n"
          ],
          "name": "stderr"
        },
        {
          "output_type": "stream",
          "text": [
            "4.974480000000002\n"
          ],
          "name": "stdout"
        },
        {
          "output_type": "stream",
          "text": [
            "/usr/local/lib/python3.6/dist-packages/qiskit/compiler/assemble.py:323: RuntimeWarning: Dynamic rep rates not supported on this backend. rep_time will be used instead of rep_delay.\n",
            "  RuntimeWarning,\n"
          ],
          "name": "stderr"
        },
        {
          "output_type": "stream",
          "text": [
            "4.975480000000002\n"
          ],
          "name": "stdout"
        },
        {
          "output_type": "stream",
          "text": [
            "/usr/local/lib/python3.6/dist-packages/qiskit/compiler/assemble.py:323: RuntimeWarning: Dynamic rep rates not supported on this backend. rep_time will be used instead of rep_delay.\n",
            "  RuntimeWarning,\n"
          ],
          "name": "stderr"
        },
        {
          "output_type": "stream",
          "text": [
            "4.976480000000002\n"
          ],
          "name": "stdout"
        },
        {
          "output_type": "stream",
          "text": [
            "/usr/local/lib/python3.6/dist-packages/qiskit/compiler/assemble.py:323: RuntimeWarning: Dynamic rep rates not supported on this backend. rep_time will be used instead of rep_delay.\n",
            "  RuntimeWarning,\n"
          ],
          "name": "stderr"
        },
        {
          "output_type": "stream",
          "text": [
            "4.977480000000003\n"
          ],
          "name": "stdout"
        },
        {
          "output_type": "stream",
          "text": [
            "/usr/local/lib/python3.6/dist-packages/qiskit/compiler/assemble.py:323: RuntimeWarning: Dynamic rep rates not supported on this backend. rep_time will be used instead of rep_delay.\n",
            "  RuntimeWarning,\n"
          ],
          "name": "stderr"
        },
        {
          "output_type": "stream",
          "text": [
            "4.978480000000003\n"
          ],
          "name": "stdout"
        },
        {
          "output_type": "stream",
          "text": [
            "/usr/local/lib/python3.6/dist-packages/qiskit/compiler/assemble.py:323: RuntimeWarning: Dynamic rep rates not supported on this backend. rep_time will be used instead of rep_delay.\n",
            "  RuntimeWarning,\n"
          ],
          "name": "stderr"
        }
      ]
    },
    {
      "cell_type": "code",
      "metadata": {
        "id": "-oPQokRL2np0",
        "colab_type": "code",
        "colab": {
          "base_uri": "https://localhost:8080/",
          "height": 285
        },
        "outputId": "3d589262-aebd-44c2-f0f6-2bb280b691ef"
      },
      "source": [
        "sns.heatmap(rabi_matrix)"
      ],
      "execution_count": 44,
      "outputs": [
        {
          "output_type": "execute_result",
          "data": {
            "text/plain": [
              "<matplotlib.axes._subplots.AxesSubplot at 0x7f71857f6dd8>"
            ]
          },
          "metadata": {
            "tags": []
          },
          "execution_count": 44
        },
        {
          "output_type": "display_data",
          "data": {
            "image/png": "[encoded data removed]",
            "text/plain": [
              "<Figure size 432x288 with 2 Axes>"
            ]
          },
          "metadata": {
            "tags": [],
            "needs_background": "light"
          }
        }
      ]
    },
    {
      "cell_type": "code",
      "metadata": {
        "id": "g0CHMK2_4F3h",
        "colab_type": "code",
        "colab": {
          "base_uri": "https://localhost:8080/",
          "height": 282
        },
        "outputId": "d1558604-c3c1-4849-9b55-c4c8c4c0e635"
      },
      "source": [
        "plt.plot(rabi_matrix[4])"
      ],
      "execution_count": 45,
      "outputs": [
        {
          "output_type": "execute_result",
          "data": {
            "text/plain": [
              "[<matplotlib.lines.Line2D at 0x7f718437b898>]"
            ]
          },
          "metadata": {
            "tags": []
          },
          "execution_count": 45
        },
        {
          "output_type": "display_data",
          "data": {
            "image/png": "[encoded data removed]",
            "text/plain": [
              "<Figure size 432x288 with 1 Axes>"
            ]
          },
          "metadata": {
            "tags": [],
            "needs_background": "light"
          }
        }
      ]
    },
    {
      "cell_type": "code",
      "metadata": {
        "id": "UkKm0GP-4Lo2",
        "colab_type": "code",
        "colab": {
          "base_uri": "https://localhost:8080/",
          "height": 287
        },
        "outputId": "94b5f57a-8fb1-42eb-e018-350cfb25c054"
      },
      "source": [
        "sns.heatmap(np.real(rabi_matrix_complex), cmap='CMRmap')"
      ],
      "execution_count": 50,
      "outputs": [
        {
          "output_type": "execute_result",
          "data": {
            "text/plain": [
              "<matplotlib.axes._subplots.AxesSubplot at 0x7f7183db28d0>"
            ]
          },
          "metadata": {
            "tags": []
          },
          "execution_count": 50
        },
        {
          "output_type": "display_data",
          "data": {
            "image/png": "[encoded data removed]",
            "text/plain": [
              "<Figure size 432x288 with 2 Axes>"
            ]
          },
          "metadata": {
            "tags": [],
            "needs_background": "light"
          }
        }
      ]
    },
    {
      "cell_type": "code",
      "metadata": {
        "id": "AYxc-kbuaBrQ",
        "colab_type": "code",
        "colab": {}
      },
      "source": [
        ""
      ],
      "execution_count": null,
      "outputs": []
    }
  ]
}