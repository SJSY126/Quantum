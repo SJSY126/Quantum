{
  "nbformat": 4,
  "nbformat_minor": 0,
  "metadata": {
    "colab": {
      "name": "Qiskit_pulse.ipynb",
      "provenance": [],
      "collapsed_sections": [],
      "mount_file_id": "1fCresC0u5GUQNEGMqQhIi7gEMf-GNpwA",
      "authorship_tag": "ABX9TyPvOBglZOpK887OhoAvEg7o",
      "include_colab_link": true
    },
    "kernelspec": {
      "name": "python3",
      "display_name": "Python 3"
    }
  },
  "cells": [
    {
      "cell_type": "markdown",
      "metadata": {
        "id": "view-in-github",
        "colab_type": "text"
      },
      "source": [
        "<a href=\"https://colab.research.google.com/github/SJSY126/Quantum/blob/master/Qiskit_pulse.ipynb\" target=\"_parent\"><img src=\"https://colab.research.google.com/assets/colab-badge.svg\" alt=\"Open In Colab\"/></a>"
      ]
    },
    {
      "cell_type": "markdown",
      "metadata": {
        "id": "yNYYi32dK--I",
        "colab_type": "text"
      },
      "source": [
        "https://qiskit.org/textbook/ch-quantum-hardware/calibrating-qubits-openpulse.html"
      ]
    },
    {
      "cell_type": "code",
      "metadata": {
        "id": "NXc3DifbH2gh",
        "colab_type": "code",
        "colab": {}
      },
      "source": [
        "!pip install -q qiskit"
      ],
      "execution_count": 7,
      "outputs": []
    },
    {
      "cell_type": "code",
      "metadata": {
        "id": "WAVF5b0GJIqD",
        "colab_type": "code",
        "colab": {
          "base_uri": "https://localhost:8080/",
          "height": 54
        },
        "outputId": "f228f92c-abee-44f1-c6ed-1a500a14dd62"
      },
      "source": [
        "with open('/content/drive/My Drive/ibmq.txt', 'r') as f:\n",
        "   ibmq_api_key = f.readline()\n",
        "\n",
        "IBMQ.save_account(ibmq_api_key)"
      ],
      "execution_count": 8,
      "outputs": [
        {
          "output_type": "stream",
          "text": [
            "configrc.store_credentials:WARNING:2020-08-02 12:29:25,699: Credentials already present. Set overwrite=True to overwrite.\n"
          ],
          "name": "stderr"
        }
      ]
    },
    {
      "cell_type": "code",
      "metadata": {
        "id": "qEt45q7zHjq5",
        "colab_type": "code",
        "colab": {
          "base_uri": "https://localhost:8080/",
          "height": 54
        },
        "outputId": "af597f97-7c39-4b09-c2ce-062dd9c879a6"
      },
      "source": [
        "from qiskit.tools.jupyter import *\n",
        "from qiskit import IBMQ\n",
        "IBMQ.load_account()\n",
        "provider = IBMQ.get_provider(hub='ibm-q', group='open', project='main')\n",
        "backend = provider.get_backend('ibmq_armonk')"
      ],
      "execution_count": 24,
      "outputs": [
        {
          "output_type": "stream",
          "text": [
            "ibmqfactory.load_account:WARNING:2020-08-02 12:46:36,715: Credentials are already in use. The existing account in the session will be replaced.\n"
          ],
          "name": "stderr"
        }
      ]
    },
    {
      "cell_type": "markdown",
      "metadata": {
        "id": "4gijmvLBLhdv",
        "colab_type": "text"
      },
      "source": [
        "open pulseが使えるバックエンドか確認する。\n",
        "現在使えるバックエンドは`ibmq_armonk`のみ（1qubit）"
      ]
    },
    {
      "cell_type": "code",
      "metadata": {
        "id": "ctICyPuhHx5L",
        "colab_type": "code",
        "colab": {}
      },
      "source": [
        "backend_config = backend.configuration()\n",
        "assert backend_config.open_pulse, \"Backend doesn't support Pulse\""
      ],
      "execution_count": 25,
      "outputs": []
    },
    {
      "cell_type": "code",
      "metadata": {
        "id": "NB2YK1VBLE0H",
        "colab_type": "code",
        "colab": {
          "base_uri": "https://localhost:8080/",
          "height": 34
        },
        "outputId": "adb05ef8-10ca-431a-da61-c630d1e2231a"
      },
      "source": [
        "dt = backend_config.dt\n",
        "print(f\"Sampling time: {dt*1e9} ns\")    # The configuration returns dt in seconds, so multiply by\n",
        "                                        # 1e9 to get nanoseconds"
      ],
      "execution_count": 26,
      "outputs": [
        {
          "output_type": "stream",
          "text": [
            "Sampling time: 0.2222222222222222 ns\n"
          ],
          "name": "stdout"
        }
      ]
    },
    {
      "cell_type": "code",
      "metadata": {
        "id": "USkcRXf2MBar",
        "colab_type": "code",
        "colab": {
          "base_uri": "https://localhost:8080/",
          "height": 136
        },
        "outputId": "2d1cab81-614b-4faa-bb7e-44a2f20f88ff"
      },
      "source": [
        "backend_defaults = backend.defaults()\n",
        "print(backend_defaults)"
      ],
      "execution_count": 31,
      "outputs": [
        {
          "output_type": "stream",
          "text": [
            "<PulseDefaults(<InstructionScheduleMap(1Q instructions:\n",
            "  q0: {'id', 'u2', 'u1', 'u3', 'measure', 'x'}\n",
            "Multi qubit instructions:\n",
            ")>Qubit Frequencies [GHz]\n",
            "[4.974457727987402]\n",
            "Measurement Frequencies [GHz]\n",
            "[6.993427855] )>\n"
          ],
          "name": "stdout"
        }
      ]
    },
    {
      "cell_type": "code",
      "metadata": {
        "id": "jBEZFiCgMXcP",
        "colab_type": "code",
        "colab": {
          "base_uri": "https://localhost:8080/",
          "height": 51
        },
        "outputId": "3f330a6e-e21b-4e32-de91-1fc39e275800"
      },
      "source": [
        "import numpy as np\n",
        "\n",
        "# unit conversion factors -> all backend properties returned in SI (Hz, sec, etc)\n",
        "GHz = 1.0e9 # Gigahertz\n",
        "MHz = 1.0e6 # Megahertz\n",
        "us = 1.0e-6 # Microseconds\n",
        "ns = 1.0e-9 # Nanoseconds\n",
        "\n",
        "# We will find the qubit frequency for the following qubit.\n",
        "qubit = 0\n",
        "\n",
        "# The sweep will be centered around the estimated qubit frequency.\n",
        "center_frequency_Hz = backend_defaults.qubit_freq_est[qubit]        # The default frequency is given in Hz\n",
        "                                                                    # warning: this will change in a future release\n",
        "print(f\"Qubit {qubit} has an estimated frequency of {center_frequency_Hz / GHz} GHz.\")\n",
        "\n",
        "# scale factor to remove factors of 10 from the data\n",
        "scale_factor = 1e-14\n",
        "\n",
        "# We will sweep 40 MHz around the estimated frequency\n",
        "frequency_span_Hz = 40 * MHz\n",
        "# in steps of 1 MHz.\n",
        "frequency_step_Hz = 1 * MHz\n",
        "\n",
        "# We will sweep 20 MHz above and 20 MHz below the estimated frequency\n",
        "frequency_min = center_frequency_Hz - frequency_span_Hz / 2\n",
        "frequency_max = center_frequency_Hz + frequency_span_Hz / 2\n",
        "# Construct an np array of the frequencies for our experiment\n",
        "frequencies_GHz = np.arange(frequency_min / GHz, \n",
        "                            frequency_max / GHz, \n",
        "                            frequency_step_Hz / GHz)\n",
        "\n",
        "print(f\"The sweep will go from {frequency_min / GHz} GHz to {frequency_max / GHz} GHz \\\n",
        "in steps of {frequency_step_Hz / MHz} MHz.\")"
      ],
      "execution_count": 32,
      "outputs": [
        {
          "output_type": "stream",
          "text": [
            "Qubit 0 has an estimated frequency of 4.974457727987402 GHz.\n",
            "The sweep will go from 4.954457727987402 GHz to 4.994457727987402 GHz in steps of 1.0 MHz.\n"
          ],
          "name": "stdout"
        }
      ]
    },
    {
      "cell_type": "code",
      "metadata": {
        "id": "952cfIWWPkO7",
        "colab_type": "code",
        "colab": {}
      },
      "source": [
        ""
      ],
      "execution_count": null,
      "outputs": []
    }
  ]
}