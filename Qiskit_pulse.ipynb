{
  "nbformat": 4,
  "nbformat_minor": 0,
  "metadata": {
    "colab": {
      "name": "Qiskit_pulse.ipynb",
      "provenance": [],
      "collapsed_sections": [],
      "mount_file_id": "1fCresC0u5GUQNEGMqQhIi7gEMf-GNpwA",
      "authorship_tag": "ABX9TyP1qvVUGaAh2S7vtZX+zqA9",
      "include_colab_link": true
    },
    "kernelspec": {
      "name": "python3",
      "display_name": "Python 3"
    }
  },
  "cells": [
    {
      "cell_type": "markdown",
      "metadata": {
        "id": "view-in-github",
        "colab_type": "text"
      },
      "source": [
        "<a href=\"https://colab.research.google.com/github/SJSY126/Quantum/blob/master/Qiskit_pulse.ipynb\" target=\"_parent\"><img src=\"https://colab.research.google.com/assets/colab-badge.svg\" alt=\"Open In Colab\"/></a>"
      ]
    },
    {
      "cell_type": "markdown",
      "metadata": {
        "id": "yNYYi32dK--I",
        "colab_type": "text"
      },
      "source": [
        "https://qiskit.org/textbook/ch-quantum-hardware/calibrating-qubits-openpulse.html"
      ]
    },
    {
      "cell_type": "code",
      "metadata": {
        "id": "NXc3DifbH2gh",
        "colab_type": "code",
        "colab": {
          "base_uri": "https://localhost:8080/",
          "height": 340
        },
        "outputId": "e2d58018-478e-4e47-ebd5-a211423123fc"
      },
      "source": [
        "!pip install -q qiskit"
      ],
      "execution_count": 1,
      "outputs": [
        {
          "output_type": "stream",
          "text": [
            "\u001b[K     |████████████████████████████████| 6.7MB 2.7MB/s \n",
            "\u001b[K     |████████████████████████████████| 23.3MB 1.7MB/s \n",
            "\u001b[K     |████████████████████████████████| 163kB 44.0MB/s \n",
            "\u001b[K     |████████████████████████████████| 184kB 52.4MB/s \n",
            "\u001b[K     |████████████████████████████████| 1.9MB 44.3MB/s \n",
            "\u001b[K     |████████████████████████████████| 962kB 51.0MB/s \n",
            "\u001b[K     |████████████████████████████████| 51kB 6.9MB/s \n",
            "\u001b[K     |████████████████████████████████| 5.8MB 44.4MB/s \n",
            "\u001b[K     |████████████████████████████████| 51kB 6.5MB/s \n",
            "\u001b[K     |████████████████████████████████| 296kB 46.9MB/s \n",
            "\u001b[K     |████████████████████████████████| 71kB 8.7MB/s \n",
            "\u001b[K     |████████████████████████████████| 26.1MB 1.4MB/s \n",
            "\u001b[K     |████████████████████████████████| 583kB 38.5MB/s \n",
            "\u001b[K     |████████████████████████████████| 2.7MB 39.4MB/s \n",
            "\u001b[?25h  Building wheel for qiskit (setup.py) ... \u001b[?25l\u001b[?25hdone\n",
            "  Building wheel for python-constraint (setup.py) ... \u001b[?25l\u001b[?25hdone\n",
            "  Building wheel for marshmallow-polyfield (setup.py) ... \u001b[?25l\u001b[?25hdone\n",
            "  Building wheel for dlx (setup.py) ... \u001b[?25l\u001b[?25hdone\n",
            "  Building wheel for docplex (setup.py) ... \u001b[?25l\u001b[?25hdone\n"
          ],
          "name": "stdout"
        }
      ]
    },
    {
      "cell_type": "code",
      "metadata": {
        "id": "qEt45q7zHjq5",
        "colab_type": "code",
        "colab": {}
      },
      "source": [
        "from qiskit.tools.jupyter import *\n",
        "from qiskit import IBMQ\n",
        "import numpy as np"
      ],
      "execution_count": 5,
      "outputs": []
    },
    {
      "cell_type": "code",
      "metadata": {
        "id": "WAVF5b0GJIqD",
        "colab_type": "code",
        "colab": {
          "base_uri": "https://localhost:8080/",
          "height": 54
        },
        "outputId": "68758243-a665-4bbf-b12e-1d65610cdbdc"
      },
      "source": [
        "with open('/content/drive/My Drive/ibmq.txt', 'r') as f:\n",
        "   ibmq_api_key = f.readline()\n",
        "\n",
        "IBMQ.save_account(ibmq_api_key)"
      ],
      "execution_count": 6,
      "outputs": [
        {
          "output_type": "stream",
          "text": [
            "configrc.store_credentials:WARNING:2020-08-04 12:02:12,382: Credentials already present. Set overwrite=True to overwrite.\n"
          ],
          "name": "stderr"
        }
      ]
    },
    {
      "cell_type": "code",
      "metadata": {
        "id": "ulXcOM3-Waly",
        "colab_type": "code",
        "colab": {}
      },
      "source": [
        "IBMQ.load_account()\n",
        "provider = IBMQ.get_provider(hub='ibm-q', group='open', project='main')\n",
        "backend = provider.get_backend('ibmq_armonk')"
      ],
      "execution_count": 7,
      "outputs": []
    },
    {
      "cell_type": "markdown",
      "metadata": {
        "id": "4gijmvLBLhdv",
        "colab_type": "text"
      },
      "source": [
        "open pulseが使えるバックエンドか確認する。\n",
        "現在使えるバックエンドは`ibmq_armonk`のみ（1qubit）"
      ]
    },
    {
      "cell_type": "code",
      "metadata": {
        "id": "ctICyPuhHx5L",
        "colab_type": "code",
        "colab": {}
      },
      "source": [
        "backend_config = backend.configuration()\n",
        "assert backend_config.open_pulse, \"Backend doesn't support Pulse\""
      ],
      "execution_count": 8,
      "outputs": []
    },
    {
      "cell_type": "code",
      "metadata": {
        "id": "NB2YK1VBLE0H",
        "colab_type": "code",
        "colab": {
          "base_uri": "https://localhost:8080/",
          "height": 34
        },
        "outputId": "b6f32e24-3c1b-4780-b694-5c9bb01268f2"
      },
      "source": [
        "dt = backend_config.dt\n",
        "print(f\"Sampling time: {dt*1e9} ns\")    # The configuration returns dt in seconds, so multiply by\n",
        "                                        # 1e9 to get nanoseconds"
      ],
      "execution_count": 9,
      "outputs": [
        {
          "output_type": "stream",
          "text": [
            "Sampling time: 0.2222222222222222 ns\n"
          ],
          "name": "stdout"
        }
      ]
    },
    {
      "cell_type": "code",
      "metadata": {
        "id": "O9cAPuSJeCQT",
        "colab_type": "code",
        "colab": {
          "base_uri": "https://localhost:8080/",
          "height": 54
        },
        "outputId": "694e87d8-9060-4639-8bf8-e337b55f74fd"
      },
      "source": [
        "print(backend_config)"
      ],
      "execution_count": 10,
      "outputs": [
        {
          "output_type": "stream",
          "text": [
            "PulseBackendConfiguration(_channel_qubit_map={AcquireChannel(0): [0], DriveChannel(0): [0], MeasureChannel(0): [0]}, _control_channels={}, _qubit_channel_map={(0,): [AcquireChannel(0), DriveChannel(0), MeasureChannel(0)]}, acquisition_latency=[], allow_object_storage=True, allow_q_object=True, backend_name='ibmq_armonk', backend_version='1.1.1', basis_gates=['id', 'u1', 'u2', 'u3'], channels={'acquire0': {'operates': {'qubits': [0]}, 'purpose': 'acquire', 'type': 'acquire'}, 'd0': {'operates': {'qubits': [0]}, 'purpose': 'drive', 'type': 'drive'}, 'm0': {'operates': {'qubits': [0]}, 'purpose': 'measure', 'type': 'measure'}}, conditional=False, conditional_latency=[], coupling_map=None, credits_required=True, description='1 qubit device', discriminators=['linear_discriminator', 'quadratic_discriminator'], dt=2.2222222222222221e-10, dtm=2.2222222222222221e-10, dynamic_reprate_enabled=False, gates=[GateConfig(id, [], gate id q { U(0,0,0) q; }, [[0]]), GateConfig(u1, ['lambda'], gate u1(lambda) q { U(0,0,lambda) q; }, [[0]]), GateConfig(u2, ['phi', 'lambda'], gate u2(phi,lambda) q { U(pi/2,phi,lambda) q; }, [[0]]), GateConfig(u3, ['theta', 'phi', 'lambda'], gate u3(theta,phi,lambda) q { U(theta,phi,lambda) q; }, [[0]])], hamiltonian={'description': 'Qubits are modeled as Duffing oscillators. In this case, the system includes higher energy states, i.e. not just |0> and |1>. The Pauli operators are generalized via the following set of transformations:\\n\\n$(\\\\mathbb{I}-\\\\sigma_{i}^z)/2 \\\\rightarrow O_i \\\\equiv b^\\\\dagger_{i} b_{i}$,\\n\\n$\\\\sigma_{+} \\\\rightarrow b^\\\\dagger$,\\n\\n$\\\\sigma_{-} \\\\rightarrow b$,\\n\\n$\\\\sigma_{i}^X \\\\rightarrow b^\\\\dagger_{i} + b_{i}$.\\n\\nQubits are coupled through resonator buses. The provided Hamiltonian has been projected into the zero excitation subspace of the resonator buses leading to an effective qubit-qubit flip-flop interaction. The qubit resonance frequencies in the Hamiltonian are the cavity dressed frequencies and not exactly what is returned by the backend defaults, which also includes the dressing due to the qubit-qubit interactions.\\n\\nQuantities are returned in angular frequencies, with units 2*pi*GHz.\\n\\nWARNING: Currently not all system Hamiltonian information is available to the public, missing values have been replaced with 0.\\n', 'h_latex': '\\\\begin{align} \\\\mathcal{H}/\\\\hbar = & \\\\sum_{i=0}^{0}\\\\left(\\\\frac{\\\\omega_{q,i}}{2}(\\\\mathbb{I}-\\\\sigma_i^{z})+\\\\frac{\\\\Delta_{i}}{2}(O_i^2-O_i)+\\\\Omega_{d,i}D_i(t)\\\\sigma_i^{X}\\\\right) \\\\\\\\ \\\\end{align}', 'h_str': ['_SUM[i,0,0,wq{i}/2*(I{i}-Z{i})]', '_SUM[i,0,0,delta{i}/2*O{i}*O{i}]', '_SUM[i,0,0,-delta{i}/2*O{i}]', '_SUM[i,0,0,omegad{i}*X{i}||D{i}]'], 'osc': {}, 'qub': {'0': 3}, 'vars': {'delta0': 0, 'omegad0': 0.07264860864612238, 'wq0': 31.25540599441464}}, local=False, max_experiments=75, max_shots=8192, meas_kernels=['boxcar'], meas_levels=[1, 2], meas_lo_range=[[6493427855.0, 7493427855.0]], meas_map=[[0]], memory=True, n_qubits=1, n_registers=1, n_uchannels=0, online_date=datetime.datetime(2019, 10, 16, 4, 0, tzinfo=tzutc()), open_pulse=True, parametric_pulses=[], quantum_volume=None, qubit_channel_mapping=[['m0', 'd0']], qubit_lo_range=[[4474452362.355146, 5474452362.355146]], rep_times=[0.001], sample_name='SPARROW', simulator=False, u_channel_lo=[], uchannels_enabled=True, url='None')\n"
          ],
          "name": "stdout"
        }
      ]
    },
    {
      "cell_type": "code",
      "metadata": {
        "id": "USkcRXf2MBar",
        "colab_type": "code",
        "colab": {
          "base_uri": "https://localhost:8080/",
          "height": 136
        },
        "outputId": "a658d125-b21c-4982-9a88-a9f5af0e38e1"
      },
      "source": [
        "backend_defaults = backend.defaults()\n",
        "print(backend_defaults)"
      ],
      "execution_count": 11,
      "outputs": [
        {
          "output_type": "stream",
          "text": [
            "<PulseDefaults(<InstructionScheduleMap(1Q instructions:\n",
            "  q0: {'x', 'id', 'u1', 'u2', 'u3', 'measure'}\n",
            "Multi qubit instructions:\n",
            ")>Qubit Frequencies [GHz]\n",
            "[4.974452362355146]\n",
            "Measurement Frequencies [GHz]\n",
            "[6.993427855] )>\n"
          ],
          "name": "stdout"
        }
      ]
    },
    {
      "cell_type": "code",
      "metadata": {
        "id": "jBEZFiCgMXcP",
        "colab_type": "code",
        "colab": {
          "base_uri": "https://localhost:8080/",
          "height": 51
        },
        "outputId": "b6d43409-ec13-4ddf-e041-eb73823abddc"
      },
      "source": [
        "\n",
        "\n",
        "# unit conversion factors -> all backend properties returned in SI (Hz, sec, etc)\n",
        "GHz = 1.0e9 # Gigahertz\n",
        "MHz = 1.0e6 # Megahertz\n",
        "us = 1.0e-6 # Microseconds\n",
        "ns = 1.0e-9 # Nanoseconds\n",
        "\n",
        "# We will find the qubit frequency for the following qubit.\n",
        "qubit = 0\n",
        "\n",
        "# The sweep will be centered around the estimated qubit frequency.\n",
        "center_frequency_Hz = backend_defaults.qubit_freq_est[qubit]        # The default frequency is given in Hz\n",
        "                                                                    # warning: this will change in a future release\n",
        "print(f\"Qubit {qubit} has an estimated frequency of {center_frequency_Hz / GHz} GHz.\")\n",
        "\n",
        "# scale factor to remove factors of 10 from the data\n",
        "scale_factor = 1e-14\n",
        "\n",
        "# We will sweep 40 MHz around the estimated frequency\n",
        "frequency_span_Hz = 40 * MHz\n",
        "# in steps of 1 MHz.\n",
        "frequency_step_Hz = 1 * MHz\n",
        "\n",
        "# We will sweep 20 MHz above and 20 MHz below the estimated frequency\n",
        "frequency_min = center_frequency_Hz - frequency_span_Hz / 2\n",
        "frequency_max = center_frequency_Hz + frequency_span_Hz / 2\n",
        "# Construct an np array of the frequencies for our experiment\n",
        "frequencies_GHz = np.arange(frequency_min / GHz, \n",
        "                            frequency_max / GHz, \n",
        "                            frequency_step_Hz / GHz)\n",
        "\n",
        "print(f\"The sweep will go from {frequency_min / GHz} GHz to {frequency_max / GHz} GHz \\\n",
        "in steps of {frequency_step_Hz / MHz} MHz.\")"
      ],
      "execution_count": 12,
      "outputs": [
        {
          "output_type": "stream",
          "text": [
            "Qubit 0 has an estimated frequency of 4.974452362355146 GHz.\n",
            "The sweep will go from 4.954452362355147 GHz to 4.994452362355147 GHz in steps of 1.0 MHz.\n"
          ],
          "name": "stdout"
        }
      ]
    },
    {
      "cell_type": "code",
      "metadata": {
        "id": "952cfIWWPkO7",
        "colab_type": "code",
        "colab": {}
      },
      "source": [
        "# samples need to be multiples of 16\n",
        "def get_closest_multiple_of_16(num):\n",
        "    return int(num + 8 ) - (int(num + 8 ) % 16)"
      ],
      "execution_count": 13,
      "outputs": []
    },
    {
      "cell_type": "code",
      "metadata": {
        "id": "OtgVf6MX77Zv",
        "colab_type": "code",
        "colab": {}
      },
      "source": [
        "from qiskit import pulse            # This is where we access all of our Pulse features!\n",
        "from qiskit.pulse import Play\n",
        "from qiskit.pulse import pulse_lib  # This Pulse module helps us build sampled pulses for common pulse shapes\n",
        "\n",
        "\n",
        "# Drive pulse parameters (us = microseconds)\n",
        "drive_sigma_us = 0.075                  # This determines the actual width of the gaussian\n",
        "drive_samples_us = drive_sigma_us*8        # This is a truncating parameter, because gaussians don't have \n",
        "                                           # a natural finite length\n",
        "\n",
        "drive_sigma = get_closest_multiple_of_16(drive_sigma_us * us /dt)       # The width of the gaussian in units of dt\n",
        "drive_samples = get_closest_multiple_of_16(drive_samples_us * us /dt)   # The truncating parameter in units of dt\n",
        "drive_amp = 0.3\n",
        "# Drive pulse samples\n",
        "drive_pulse = pulse_lib.gaussian(duration=drive_samples,\n",
        "                                 sigma=drive_sigma,\n",
        "                                 amp=drive_amp,\n",
        "                                 name='freq_sweep_excitation_pulse')"
      ],
      "execution_count": 14,
      "outputs": []
    },
    {
      "cell_type": "code",
      "metadata": {
        "id": "Tq9_z7uX8C-u",
        "colab_type": "code",
        "colab": {}
      },
      "source": [
        "# Find out which group of qubits need to be acquired with this qubit\n",
        "meas_map_idx = None\n",
        "for i, measure_group in enumerate(backend_config.meas_map):\n",
        "    if qubit in measure_group:\n",
        "        meas_map_idx = i\n",
        "        break\n",
        "assert meas_map_idx is not None, f\"Couldn't find qubit {qubit} in the meas_map!\""
      ],
      "execution_count": 15,
      "outputs": []
    },
    {
      "cell_type": "code",
      "metadata": {
        "id": "uaNwjJMG8-lh",
        "colab_type": "code",
        "colab": {}
      },
      "source": [
        "inst_sched_map = backend_defaults.instruction_schedule_map\n",
        "measure = inst_sched_map.get('measure', qubits=backend_config.meas_map[meas_map_idx])"
      ],
      "execution_count": 16,
      "outputs": []
    },
    {
      "cell_type": "code",
      "metadata": {
        "id": "gHR4rxf99RqK",
        "colab_type": "code",
        "colab": {}
      },
      "source": [
        "### Collect the necessary channels\n",
        "drive_chan = pulse.DriveChannel(qubit)\n",
        "meas_chan = pulse.MeasureChannel(qubit)\n",
        "acq_chan = pulse.AcquireChannel(qubit)"
      ],
      "execution_count": 17,
      "outputs": []
    },
    {
      "cell_type": "code",
      "metadata": {
        "id": "VI85Mic49gFG",
        "colab_type": "code",
        "colab": {}
      },
      "source": [
        "# Create the base schedule\n",
        "# Start with drive pulse acting on the drive channel\n",
        "schedule = pulse.Schedule(name='Frequency sweep')\n",
        "schedule += Play(drive_pulse, drive_chan)\n",
        "# The left shift `<<` is special syntax meaning to shift the start time of the schedule by some duration\n",
        "schedule += measure << schedule.duration\n",
        "\n",
        "# Create the frequency settings for the sweep (MUST BE IN HZ)\n",
        "frequencies_Hz = frequencies_GHz*GHz\n",
        "schedule_frequencies = [{drive_chan: freq} for freq in frequencies_Hz]"
      ],
      "execution_count": 18,
      "outputs": []
    },
    {
      "cell_type": "code",
      "metadata": {
        "id": "-3SmSe1y9u1m",
        "colab_type": "code",
        "colab": {}
      },
      "source": [
        "#schedule_frequencies"
      ],
      "execution_count": 19,
      "outputs": []
    },
    {
      "cell_type": "code",
      "metadata": {
        "id": "DibEdZK197L0",
        "colab_type": "code",
        "colab": {
          "base_uri": "https://localhost:8080/",
          "height": 750
        },
        "outputId": "0c8c45e6-dfac-4db6-8f06-f18f4b061bca"
      },
      "source": [
        "schedule.draw(label=True, scaling=0.8)"
      ],
      "execution_count": 20,
      "outputs": [
        {
          "output_type": "execute_result",
          "data": {
            "image/png": "[encoded data removed]",
            "text/plain": [
              "<Figure size 720x864 with 1 Axes>"
            ]
          },
          "metadata": {
            "tags": []
          },
          "execution_count": 20
        }
      ]
    },
    {
      "cell_type": "code",
      "metadata": {
        "id": "wuKWRf4x-H_8",
        "colab_type": "code",
        "colab": {}
      },
      "source": [
        "\n",
        "\n",
        "num_shots_per_frequency = 8192\n",
        "frequency_sweep_program = assemble(schedule,\n",
        "                                   backend=backend, \n",
        "                                   meas_level=1,\n",
        "                                   meas_return='avg',\n",
        "                                   shots=num_shots_per_frequency,\n",
        "                                   schedule_los=schedule_frequencies)"
      ],
      "execution_count": 21,
      "outputs": []
    },
    {
      "cell_type": "code",
      "metadata": {
        "id": "YUW1tTeD-XYj",
        "colab_type": "code",
        "colab": {}
      },
      "source": [
        "job = backend.run(frequency_sweep_program)"
      ],
      "execution_count": 22,
      "outputs": []
    },
    {
      "cell_type": "code",
      "metadata": {
        "id": "DzwLyDIQ-gC6",
        "colab_type": "code",
        "colab": {
          "base_uri": "https://localhost:8080/",
          "height": 51
        },
        "outputId": "a31a5406-0334-4046-96f7-f512b8b31a3d"
      },
      "source": [
        "print(job.job_id())\n",
        "from qiskit.tools.monitor import job_monitor\n",
        "job_monitor(job)"
      ],
      "execution_count": 23,
      "outputs": [
        {
          "output_type": "stream",
          "text": [
            "5f294e7659aca10012f63738\n",
            "Job Status: job has successfully run\n"
          ],
          "name": "stdout"
        }
      ]
    },
    {
      "cell_type": "code",
      "metadata": {
        "id": "ZZFEI3paBwiC",
        "colab_type": "code",
        "colab": {}
      },
      "source": [
        "job.error_message() "
      ],
      "execution_count": 24,
      "outputs": []
    },
    {
      "cell_type": "code",
      "metadata": {
        "id": "2HADew6f-kmK",
        "colab_type": "code",
        "colab": {}
      },
      "source": [
        "frequency_sweep_results = job.result(timeout=120) # timeout parameter set to 120 seconds"
      ],
      "execution_count": 25,
      "outputs": []
    },
    {
      "cell_type": "code",
      "metadata": {
        "id": "VCgqBfWn-3CQ",
        "colab_type": "code",
        "colab": {
          "base_uri": "https://localhost:8080/",
          "height": 279
        },
        "outputId": "bfbbb272-c8bc-4e3e-a39d-f5c4e1b27531"
      },
      "source": [
        "\n",
        "\n",
        "sweep_values = []\n",
        "for i in range(len(frequency_sweep_results.results)):\n",
        "    # Get the results from the ith experiment\n",
        "    res = frequency_sweep_results.get_memory(i)*scale_factor\n",
        "    # Get the results for `qubit` from this experiment\n",
        "    sweep_values.append(res[qubit])\n",
        "\n",
        "plt.scatter(frequencies_GHz, np.real(sweep_values), color='black') # plot real part of sweep values\n",
        "plt.xlim([min(frequencies_GHz), max(frequencies_GHz)])\n",
        "plt.xlabel(\"Frequency [GHz]\")\n",
        "plt.ylabel(\"Measured signal [a.u.]\")\n",
        "plt.show()"
      ],
      "execution_count": 26,
      "outputs": [
        {
          "output_type": "display_data",
          "data": {
            "image/png": "[encoded data removed]",
            "text/plain": [
              "<Figure size 432x288 with 1 Axes>"
            ]
          },
          "metadata": {
            "tags": [],
            "needs_background": "light"
          }
        }
      ]
    },
    {
      "cell_type": "code",
      "metadata": {
        "id": "rGNV8b0_drY5",
        "colab_type": "code",
        "colab": {
          "base_uri": "https://localhost:8080/",
          "height": 750
        },
        "outputId": "13ebb58e-fded-4e6d-a9bb-053d15068280"
      },
      "source": [
        "# Drive pulse parameters (us = microseconds)\n",
        "drive_sigma_us = 0.05\n",
        "drive_samples_us = drive_sigma_us*8\n",
        "\n",
        "drive_sigma = get_closest_multiple_of_16(drive_sigma_us * us /dt)      \n",
        "drive_samples = get_closest_multiple_of_16(drive_samples_us * us /dt)  \n",
        "drive_amp = 0.3\n",
        "# Drive pulse samples\n",
        "drive_pulse = pulse_lib.gaussian(duration=drive_samples,\n",
        "                                 sigma=drive_sigma,\n",
        "                                 amp=drive_amp,\n",
        "                                 name='freq_sweep_excitation_pulse')\n",
        "\n",
        "schedule = pulse.Schedule(name='Frequency sweep')\n",
        "schedule += Play(drive_pulse, drive_chan)\n",
        "\n",
        "schedule += measure << schedule.duration\n",
        "\n",
        "frequencies_Hz = frequencies_GHz*GHz\n",
        "schedule_frequencies = [{drive_chan: freq} for freq in frequencies_Hz]\n",
        "\n",
        "schedule.draw(label=True, scaling=0.8)"
      ],
      "execution_count": 27,
      "outputs": [
        {
          "output_type": "execute_result",
          "data": {
            "image/png": "[encoded data removed]",
            "text/plain": [
              "<Figure size 720x864 with 1 Axes>"
            ]
          },
          "metadata": {
            "tags": []
          },
          "execution_count": 27
        }
      ]
    },
    {
      "cell_type": "code",
      "metadata": {
        "id": "CfsYRyx_eWW9",
        "colab_type": "code",
        "colab": {
          "base_uri": "https://localhost:8080/",
          "height": 51
        },
        "outputId": "b153070a-50e1-4bde-b509-01fc3f6db263"
      },
      "source": [
        "frequency_sweep_program = assemble(schedule,\n",
        "                                   backend=backend, \n",
        "                                   meas_level=1,\n",
        "                                   meas_return='avg',\n",
        "                                   shots=num_shots_per_frequency,\n",
        "                                   schedule_los=schedule_frequencies)\n",
        "\n",
        "job = backend.run(frequency_sweep_program)\n",
        "\n",
        "print(job.job_id())\n",
        "from qiskit.tools.monitor import job_monitor\n",
        "job_monitor(job)"
      ],
      "execution_count": 29,
      "outputs": [
        {
          "output_type": "stream",
          "text": [
            "5f2956af159e2600136ca1ac\n",
            "Job Status: job has successfully run\n"
          ],
          "name": "stdout"
        }
      ]
    },
    {
      "cell_type": "code",
      "metadata": {
        "id": "f13NEZYyi2sq",
        "colab_type": "code",
        "colab": {
          "base_uri": "https://localhost:8080/",
          "height": 279
        },
        "outputId": "25305e87-185a-423e-9e10-9e70c4596457"
      },
      "source": [
        "frequency_sweep_results = job.result(timeout=120)\n",
        "sweep_values = []\n",
        "for i in range(len(frequency_sweep_results.results)):\n",
        "    # Get the results from the ith experiment\n",
        "    res = frequency_sweep_results.get_memory(i)*scale_factor\n",
        "    # Get the results for `qubit` from this experiment\n",
        "    sweep_values.append(res[qubit])\n",
        "\n",
        "plt.scatter(frequencies_GHz, np.real(sweep_values), color='black') # plot real part of sweep values\n",
        "plt.xlim([min(frequencies_GHz), max(frequencies_GHz)])\n",
        "plt.xlabel(\"Frequency [GHz]\")\n",
        "plt.ylabel(\"Measured signal [a.u.]\")\n",
        "plt.show()"
      ],
      "execution_count": 31,
      "outputs": [
        {
          "output_type": "display_data",
          "data": {
            "image/png": "[encoded data removed]",
            "text/plain": [
              "<Figure size 432x288 with 1 Axes>"
            ]
          },
          "metadata": {
            "tags": [],
            "needs_background": "light"
          }
        }
      ]
    },
    {
      "cell_type": "code",
      "metadata": {
        "id": "FK3dyftk_E_m",
        "colab_type": "code",
        "colab": {}
      },
      "source": [
        "from scipy.optimize import curve_fit\n",
        "\n",
        "def fit_function(x_values, y_values, function, init_params):\n",
        "    fitparams, conv = curve_fit(function, x_values, y_values, init_params)\n",
        "    y_fit = function(x_values, *fitparams)\n",
        "    \n",
        "    return fitparams, y_fit"
      ],
      "execution_count": 32,
      "outputs": []
    },
    {
      "cell_type": "code",
      "metadata": {
        "id": "Lh1DHGg1_PdG",
        "colab_type": "code",
        "colab": {}
      },
      "source": [
        "fit_params, y_fit = fit_function(frequencies_GHz,\n",
        "                                 np.real(sweep_values), \n",
        "                                 lambda x, A, q_freq, B, C: (A / np.pi) * (B / ((x - q_freq)**2 + B**2)) + C,\n",
        "                                 [-5, 4.975, 0.2, 1] # initial parameters for curve_fit\n",
        "                                )"
      ],
      "execution_count": 34,
      "outputs": []
    },
    {
      "cell_type": "code",
      "metadata": {
        "id": "LZrZL1tk_Q-G",
        "colab_type": "code",
        "colab": {
          "base_uri": "https://localhost:8080/",
          "height": 279
        },
        "outputId": "4b78fd0a-8740-4ce2-aed4-dd711901c65e"
      },
      "source": [
        "plt.scatter(frequencies_GHz, np.real(sweep_values), color='black')\n",
        "plt.plot(frequencies_GHz, y_fit, color='red')\n",
        "plt.xlim([min(frequencies_GHz), max(frequencies_GHz)])\n",
        "\n",
        "plt.xlabel(\"Frequency [GHz]\")\n",
        "plt.ylabel(\"Measured Signal [a.u.]\")\n",
        "plt.show()"
      ],
      "execution_count": 35,
      "outputs": [
        {
          "output_type": "display_data",
          "data": {
            "image/png": "[encoded data removed]",
            "text/plain": [
              "<Figure size 432x288 with 1 Axes>"
            ]
          },
          "metadata": {
            "tags": [],
            "needs_background": "light"
          }
        }
      ]
    },
    {
      "cell_type": "code",
      "metadata": {
        "id": "IberosNv_qy2",
        "colab_type": "code",
        "colab": {
          "base_uri": "https://localhost:8080/",
          "height": 34
        },
        "outputId": "5b81b598-b7e2-49c7-e8f1-7d8df8a5ef8b"
      },
      "source": [
        "A, rough_qubit_frequency, B, C = fit_params\n",
        "rough_qubit_frequency = rough_qubit_frequency*GHz # make sure qubit freq is in Hz\n",
        "print(f\"We've updated our qubit frequency estimate from \"\n",
        "      f\"{round(backend_defaults.qubit_freq_est[qubit] / GHz, 5)} GHz to {round(rough_qubit_frequency/GHz, 5)} GHz.\")"
      ],
      "execution_count": 36,
      "outputs": [
        {
          "output_type": "stream",
          "text": [
            "We've updated our qubit frequency estimate from 4.97445 GHz to 4.97453 GHz.\n"
          ],
          "name": "stdout"
        }
      ]
    },
    {
      "cell_type": "code",
      "metadata": {
        "id": "3Bywnkv9ABki",
        "colab_type": "code",
        "colab": {}
      },
      "source": [
        ""
      ],
      "execution_count": null,
      "outputs": []
    }
  ]
}